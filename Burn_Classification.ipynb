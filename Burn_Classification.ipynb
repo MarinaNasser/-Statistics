{
  "cells": [
    {
      "cell_type": "markdown",
      "metadata": {
        "id": "view-in-github",
        "colab_type": "text"
      },
      "source": [
        "<a href=\"https://colab.research.google.com/github/MarinaNasser/-Statistics/blob/main/Burn_Classification.ipynb\" target=\"_parent\"><img src=\"https://colab.research.google.com/assets/colab-badge.svg\" alt=\"Open In Colab\"/></a>"
      ]
    },
    {
      "cell_type": "code",
      "execution_count": 1,
      "metadata": {
        "id": "_nH3zVD4NJYj",
        "outputId": "76367a1a-dbe1-4d3c-b20f-461c02804530",
        "colab": {
          "base_uri": "https://localhost:8080/"
        }
      },
      "outputs": [
        {
          "output_type": "stream",
          "name": "stdout",
          "text": [
            "Collecting optuna\n",
            "  Downloading optuna-3.5.0-py3-none-any.whl (413 kB)\n",
            "\u001b[2K     \u001b[90m━━━━━━━━━━━━━━━━━━━━━━━━━━━━━━━━━━━━━━━━\u001b[0m \u001b[32m413.4/413.4 kB\u001b[0m \u001b[31m6.1 MB/s\u001b[0m eta \u001b[36m0:00:00\u001b[0m\n",
            "\u001b[?25hCollecting alembic>=1.5.0 (from optuna)\n",
            "  Downloading alembic-1.13.1-py3-none-any.whl (233 kB)\n",
            "\u001b[2K     \u001b[90m━━━━━━━━━━━━━━━━━━━━━━━━━━━━━━━━━━━━━━━━\u001b[0m \u001b[32m233.4/233.4 kB\u001b[0m \u001b[31m10.5 MB/s\u001b[0m eta \u001b[36m0:00:00\u001b[0m\n",
            "\u001b[?25hCollecting colorlog (from optuna)\n",
            "  Downloading colorlog-6.8.2-py3-none-any.whl (11 kB)\n",
            "Requirement already satisfied: numpy in /usr/local/lib/python3.10/dist-packages (from optuna) (1.25.2)\n",
            "Requirement already satisfied: packaging>=20.0 in /usr/local/lib/python3.10/dist-packages (from optuna) (23.2)\n",
            "Requirement already satisfied: sqlalchemy>=1.3.0 in /usr/local/lib/python3.10/dist-packages (from optuna) (2.0.27)\n",
            "Requirement already satisfied: tqdm in /usr/local/lib/python3.10/dist-packages (from optuna) (4.66.2)\n",
            "Requirement already satisfied: PyYAML in /usr/local/lib/python3.10/dist-packages (from optuna) (6.0.1)\n",
            "Collecting Mako (from alembic>=1.5.0->optuna)\n",
            "  Downloading Mako-1.3.2-py3-none-any.whl (78 kB)\n",
            "\u001b[2K     \u001b[90m━━━━━━━━━━━━━━━━━━━━━━━━━━━━━━━━━━━━━━━━\u001b[0m \u001b[32m78.7/78.7 kB\u001b[0m \u001b[31m6.4 MB/s\u001b[0m eta \u001b[36m0:00:00\u001b[0m\n",
            "\u001b[?25hRequirement already satisfied: typing-extensions>=4 in /usr/local/lib/python3.10/dist-packages (from alembic>=1.5.0->optuna) (4.9.0)\n",
            "Requirement already satisfied: greenlet!=0.4.17 in /usr/local/lib/python3.10/dist-packages (from sqlalchemy>=1.3.0->optuna) (3.0.3)\n",
            "Requirement already satisfied: MarkupSafe>=0.9.2 in /usr/local/lib/python3.10/dist-packages (from Mako->alembic>=1.5.0->optuna) (2.1.5)\n",
            "Installing collected packages: Mako, colorlog, alembic, optuna\n",
            "Successfully installed Mako-1.3.2 alembic-1.13.1 colorlog-6.8.2 optuna-3.5.0\n"
          ]
        }
      ],
      "source": [
        "pip install optuna"
      ]
    },
    {
      "cell_type": "code",
      "execution_count": 2,
      "metadata": {
        "id": "AxY-HcOS6afU"
      },
      "outputs": [],
      "source": [
        "import os\n",
        "import torch\n",
        "import optuna\n",
        "import random\n",
        "import re\n",
        "import shutil\n",
        "from google.colab import drive\n",
        "from collections import Counter\n",
        "\n",
        "import numpy as np\n",
        "import pandas as pd\n",
        "from PIL import Image\n",
        "import torch.nn as nn\n",
        "import torch.optim as optim\n",
        "import torch.nn.functional as F\n",
        "from numpy.random import MT19937\n",
        "from torch.optim import lr_scheduler\n",
        "from torchvision import models, transforms\n",
        "from torch.optim.lr_scheduler import StepLR\n",
        "from numpy.random import RandomState, SeedSequence\n",
        "from torch.optim.lr_scheduler import ReduceLROnPlateau\n",
        "\n",
        "from torch.utils.data.sampler import SubsetRandomSampler\n",
        "from torch.utils.data import ConcatDataset\n",
        "\n",
        "from sklearn.model_selection import train_test_split\n",
        "\n",
        "import matplotlib.pyplot as plt\n",
        "import seaborn as sns\n",
        "from sklearn.metrics import confusion_matrix\n",
        "from sklearn.metrics import f1_score, precision_score, recall_score"
      ]
    },
    {
      "cell_type": "code",
      "execution_count": 3,
      "metadata": {
        "id": "a6Fjx0BqZ9uj"
      },
      "outputs": [],
      "source": [
        "# Choose your device\n",
        "device = torch.device(\"cuda:0\" if torch.cuda.is_available() else \"cpu\")"
      ]
    },
    {
      "cell_type": "markdown",
      "metadata": {
        "id": "JFP_YO22w9Ea"
      },
      "source": [
        "# Data loading phase"
      ]
    },
    {
      "cell_type": "code",
      "execution_count": 4,
      "metadata": {
        "id": "69pWXqWEzUBg",
        "colab": {
          "base_uri": "https://localhost:8080/"
        },
        "outputId": "330e7b07-6f91-4bd5-ab06-444ce8f9ff10"
      },
      "outputs": [
        {
          "output_type": "stream",
          "name": "stdout",
          "text": [
            "Mounted at /content/drive\n"
          ]
        }
      ],
      "source": [
        "drive.mount('/content/drive')"
      ]
    },
    {
      "cell_type": "code",
      "execution_count": 5,
      "metadata": {
        "id": "OPGcs21Hzq1j",
        "colab": {
          "base_uri": "https://localhost:8080/"
        },
        "outputId": "9a8033c2-af9d-43c2-ff29-2923152713bd"
      },
      "outputs": [
        {
          "output_type": "stream",
          "name": "stdout",
          "text": [
            "/content/drive/My Drive/Colab Notebooks\n"
          ]
        }
      ],
      "source": [
        "%cd /content/drive/My Drive/Colab Notebooks/"
      ]
    },
    {
      "cell_type": "code",
      "execution_count": 6,
      "metadata": {
        "id": "jwGFy2VJDiNQ",
        "colab": {
          "base_uri": "https://localhost:8080/"
        },
        "outputId": "578bc6f5-2e24-43bc-dc39-bdb7be4ef3e1"
      },
      "outputs": [
        {
          "output_type": "stream",
          "name": "stdout",
          "text": [
            "['From roboflow', 'From kaggle', 'older labels kaggle', 'BIP_US', 'BIPimages_labels', 'Mixed_dataset_BIPUS_cieLAB', 'dr_labelled_imgs', 'dr_labelled_imgs_cielab', 'Mixed_dataset_CIELAB', 'dr_labelled_imgs_202402027']\n"
          ]
        }
      ],
      "source": [
        "# Open Gp drive/Burn dataset/classification , click on classification-->organize-->add shortcut--my drive\n",
        "folder_path = '/content/drive/My Drive/classification'\n",
        "\n",
        "# List files in the folder\n",
        "files = os.listdir(folder_path)\n",
        "print(files)"
      ]
    },
    {
      "cell_type": "markdown",
      "source": [
        "## Paths"
      ],
      "metadata": {
        "id": "XfuCSk7UX-Aq"
      }
    },
    {
      "cell_type": "code",
      "execution_count": 7,
      "metadata": {
        "id": "8FKuZj4gJyjn"
      },
      "outputs": [],
      "source": [
        "final_labels = []\n",
        "\n",
        "roboflow_train_images_path = '/content/drive/My Drive/classification/From roboflow/train'\n",
        "roboflow_train_labels_path = '/content/drive/My Drive/classification/From roboflow/train/_classes.csv'\n",
        "roboflow_valid_images_path = '/content/drive/My Drive/classification/From roboflow/valid'\n",
        "roboflow_valid_labels_path = '/content/drive/My Drive/classification/From roboflow/valid/_classes.csv'\n",
        "\n",
        "kaggle_images_path = '/content/drive/My Drive/classification/From kaggle'\n",
        "older_labels_path = '/content/drive/My Drive/classification/older labels kaggle'\n",
        "\n",
        "BIP_US_path = '/content/drive/My Drive/classification/BIPimages_labels'\n",
        "dr_labelled_imgs_path = '/content/drive/My Drive/classification/dr_labelled_imgs'\n",
        "\n",
        "Mixed_dataset_cieLAB_path ='/content/drive/My Drive/classification/Mixed_dataset_CIELAB'\n",
        "\n",
        "\n",
        "mixed_dataset_path = '/content/Mixed_dataset'\n",
        "if not os.path.exists(mixed_dataset_path):\n",
        "    os.makedirs(mixed_dataset_path)\n",
        "\n",
        "cielab_mixed_dataset_path = '/content/cielab_Mixed_dataset'\n",
        "if not os.path.exists(cielab_mixed_dataset_path):\n",
        "    os.makedirs(cielab_mixed_dataset_path)"
      ]
    },
    {
      "cell_type": "markdown",
      "source": [
        "## Kaggle Dataset"
      ],
      "metadata": {
        "id": "69YTTCyUXgiD"
      }
    },
    {
      "cell_type": "code",
      "execution_count": 8,
      "metadata": {
        "id": "KL8hO64JPqww"
      },
      "outputs": [],
      "source": [
        "def get_label_kaggle(older_labels_path, img_name):\n",
        "\n",
        "    text_filename = f\"{img_name}.txt\"\n",
        "    text_file_path = os.path.join(older_labels_path, text_filename)\n",
        "\n",
        "    if os.path.exists(text_file_path):\n",
        "      try:\n",
        "        with open(text_file_path, \"r\") as file:\n",
        "            file_contents = file.readlines()\n",
        "            if not file_contents:\n",
        "                print(f\"No content found in file: {text_file_path}\")\n",
        "                return None\n",
        "\n",
        "            # Extracting the first column values\n",
        "            first_column_values = [int(line.split()[0]) for line in file_contents]\n",
        "\n",
        "            # Calculating the mode of the first column values\n",
        "            mode = Counter(first_column_values).most_common(1)\n",
        "\n",
        "            return mode[0][0]\n",
        "\n",
        "      except FileNotFoundError:\n",
        "          print(f\"File {text_file_path} is not found.\")\n",
        "          return None\n",
        "\n",
        "      except Exception as e:\n",
        "          print(f\"An error occurred: {e}\")\n",
        "          return None"
      ]
    },
    {
      "cell_type": "code",
      "execution_count": 9,
      "metadata": {
        "id": "GN9BG7AI9VUa"
      },
      "outputs": [],
      "source": [
        "# Kaggle images\n",
        "for root, dirs, files in os.walk(kaggle_images_path):\n",
        "    for file in files:\n",
        "        img_name = file.split('.')[0]  # Extracts the name without the extension\n",
        "        if ' - Copy' in img_name:\n",
        "            img_name = img_name.split(' - Copy')[0]  # Removes the '- Copy' part\n",
        "        label = get_label_kaggle(older_labels_path,img_name)\n",
        "        if label is not None:\n",
        "            final_labels.append(label)\n",
        "            new_filename = f'{len(final_labels) - 1}_{label}.jpg'\n",
        "            shutil.copy2(os.path.join(kaggle_images_path, file), os.path.join(mixed_dataset_path, new_filename))"
      ]
    },
    {
      "cell_type": "markdown",
      "source": [
        "## Roboflow Dataset"
      ],
      "metadata": {
        "id": "dtlr9x0gXk7X"
      }
    },
    {
      "cell_type": "code",
      "execution_count": 10,
      "metadata": {
        "id": "dhBSO4uMTfy7"
      },
      "outputs": [],
      "source": [
        "def get_label_roboflow(labels_file_path, img_name, roboflow_labels_dict):\n",
        "    try:\n",
        "        if img_name in roboflow_labels_dict:\n",
        "            return roboflow_labels_dict[img_name]\n",
        "        else:\n",
        "            print(f\"Image {img_name} not found in labels file.\")\n",
        "            return None\n",
        "\n",
        "    except FileNotFoundError:\n",
        "        print(f\"Labels file {labels_file_path} not found.\")\n",
        "        return None\n",
        "    except Exception as e:\n",
        "        print(f\"An error occurred: {e}\")\n",
        "        return None"
      ]
    },
    {
      "cell_type": "code",
      "execution_count": 11,
      "metadata": {
        "id": "o-R9PdVt-_Xd",
        "outputId": "a12723ce-eae2-477e-f816-1bf0b72a4c39",
        "colab": {
          "base_uri": "https://localhost:8080/"
        }
      },
      "outputs": [
        {
          "output_type": "stream",
          "name": "stdout",
          "text": [
            "Image _classes (1).csv not found in labels file.\n",
            "Image _classes.csv not found in labels file.\n",
            "Image 9_jpg.rf.95c23678045fe98fc597c474684137a4 - Copy.jpg not found in labels file.\n",
            "Image 9_jpg.rf.95c23678045fe98fc597c474684137a4 - Copy (2).jpg not found in labels file.\n"
          ]
        }
      ],
      "source": [
        "# Roboflow train images\n",
        "roboflow_train_labels_dict = {}\n",
        "roboflow_train_labels = pd.read_csv(roboflow_train_labels_path)\n",
        "train_image_filenames = roboflow_train_labels['filename'].tolist()\n",
        "train_labels = roboflow_train_labels[[' 1st degree', ' 2nd degree', ' 3rd degree']].values.tolist()\n",
        "\n",
        "for filename, label in zip(train_image_filenames, train_labels):\n",
        "    label_index = label.index(1)  # Get the index where the value is 1\n",
        "    final_label = label_index\n",
        "    roboflow_train_labels_dict[filename] = final_label\n",
        "\n",
        "for root, dirs, files in os.walk(roboflow_train_images_path):\n",
        "    for file in files:\n",
        "        img_name = file.split('.')[0]\n",
        "        label = roboflow_train_labels_dict.get(img_name)\n",
        "        if 'Copy' in img_name and label is None:\n",
        "            original_img_name = img_name.split(' - Copy')[0]\n",
        "            original_img_label = roboflow_train_labels_dict.get(original_img_name)\n",
        "            if original_img_label:\n",
        "                roboflow_train_labels_dict[img_name] = original_img_label\n",
        "\n",
        "for root, dirs, files in os.walk(roboflow_train_images_path):\n",
        "    for file in files:\n",
        "      label = get_label_roboflow(roboflow_train_labels_path, file, roboflow_train_labels_dict)\n",
        "      if label is not None:\n",
        "        final_labels.append(label)\n",
        "        new_filename = f'{len(final_labels) - 1}_{label}.jpg'\n",
        "        shutil.copy2(os.path.join(roboflow_train_images_path, file), os.path.join(mixed_dataset_path, new_filename))\n"
      ]
    },
    {
      "cell_type": "code",
      "execution_count": 12,
      "metadata": {
        "id": "2dlvwiFb_Emd",
        "outputId": "d3570ad9-6960-4645-b262-082aa21816e7",
        "colab": {
          "base_uri": "https://localhost:8080/"
        }
      },
      "outputs": [
        {
          "output_type": "stream",
          "name": "stdout",
          "text": [
            "Image _classes.csv not found in labels file.\n"
          ]
        }
      ],
      "source": [
        "# Roboflow Valid images\n",
        "roboflow_valid_labels_dict = {}\n",
        "roboflow_valid_labels = pd.read_csv(roboflow_valid_labels_path)\n",
        "valid_image_filenames = roboflow_valid_labels['filename'].tolist()\n",
        "valid_labels = roboflow_valid_labels[[' 1st degree', ' 2nd degree', ' 3rd degree']].values.tolist()\n",
        "\n",
        "for filename, label in zip(valid_image_filenames, valid_labels):\n",
        "    label_index = label.index(1)  # Get the index where the value is 1\n",
        "    final_label = label_index\n",
        "    roboflow_valid_labels_dict[filename] = final_label\n",
        "\n",
        "for root, dirs, files in os.walk(roboflow_valid_images_path):\n",
        "    for file in files:\n",
        "        img_name = file.split('.')[0]\n",
        "        label = roboflow_valid_labels_dict.get(img_name)\n",
        "        if 'Copy' in img_name and label is None:\n",
        "            original_img_name = img_name.split(' - Copy')[0]\n",
        "            original_img_label = roboflow_valid_labels_dict.get(original_img_name)\n",
        "            if original_img_label:\n",
        "                roboflow_valid_labels_dict[img_name] = original_img_label\n",
        "\n",
        "for root, dirs, files in os.walk(roboflow_valid_images_path):\n",
        "    for file in files:\n",
        "      label = get_label_roboflow(roboflow_valid_labels_path, file, roboflow_valid_labels_dict)\n",
        "      if label is not None:\n",
        "        final_labels.append(label)\n",
        "        new_filename = f'{len(final_labels) - 1}_{label}.jpg'\n",
        "        shutil.copy2(os.path.join(roboflow_valid_images_path, file), os.path.join(mixed_dataset_path, new_filename))\n"
      ]
    },
    {
      "cell_type": "markdown",
      "source": [
        "## BIP_US Dataset"
      ],
      "metadata": {
        "id": "m1gat4zCXrHO"
      }
    },
    {
      "cell_type": "code",
      "source": [
        "# # BIP_US images\n",
        "# for root, dirs, files in os.walk(BIP_US_path):\n",
        "#     for file in files:\n",
        "#         img_name = file.split('.')[0]\n",
        "#         label = file.split('_')[-1].split('.')[0]\n",
        "#         final_labels.append(label)\n",
        "#         new_filename = f'{img_name}.jpg'\n",
        "#         shutil.copy2(os.path.join(BIP_US_path, file), os.path.join(mixed_dataset_path, new_filename))"
      ],
      "metadata": {
        "id": "ZaWHZecpXzg2"
      },
      "execution_count": 13,
      "outputs": []
    },
    {
      "cell_type": "markdown",
      "source": [
        "## Doctor Labeled Images"
      ],
      "metadata": {
        "id": "hT0kBc6qou7J"
      }
    },
    {
      "cell_type": "code",
      "source": [
        "# # dr labeled images\n",
        "# for root, dirs, files in os.walk(dr_labelled_imgs_path):\n",
        "#     for file in files:\n",
        "#         img_name = file.split('.')[0]  # Extracts the name without the extension\n",
        "#         label = file.split('_')[-1].split('.')[0]\n",
        "#         if label is not None:\n",
        "#             final_labels.append(label)\n",
        "#             new_filename = f'{len(final_labels) - 1}_{label}.jpg'\n",
        "#             shutil.copy2(os.path.join(dr_labelled_imgs_path, file), os.path.join(mixed_dataset_path, new_filename))"
      ],
      "metadata": {
        "id": "7VK26y3MouX8"
      },
      "execution_count": 14,
      "outputs": []
    },
    {
      "cell_type": "markdown",
      "source": [
        "## CIELAB"
      ],
      "metadata": {
        "id": "A0H9Z-P00Ql0"
      }
    },
    {
      "cell_type": "code",
      "source": [
        "# final_labels =[]\n",
        "\n",
        "# for root, dirs, files in os.walk(Mixed_dataset_cieLAB_path):\n",
        "#     for file in files:\n",
        "#         img_name = file.split('.')[0]\n",
        "#         #print(img_name)\n",
        "#         label = file.split('_')[1].split('_')[0]\n",
        "#         #print(label)\n",
        "#         final_labels.append(label)\n",
        "#         new_filename = f'{img_name}.jpg'\n",
        "#         shutil.copy2(os.path.join(Mixed_dataset_cieLAB_path, file), os.path.join(cielab_mixed_dataset_path, new_filename))\n",
        "\n",
        "# final_labels = [int(filename.split('_')[1].split('_')[0]) for filename in os.listdir(cielab_mixed_dataset_path)]\n",
        "# Burn_images = [file for file in os.listdir(cielab_mixed_dataset_path)]"
      ],
      "metadata": {
        "id": "c5xlG7IlzUni"
      },
      "execution_count": 15,
      "outputs": []
    },
    {
      "cell_type": "markdown",
      "source": [
        "## Burn Images + Final Labels"
      ],
      "metadata": {
        "id": "ZScjbsrpan5e"
      }
    },
    {
      "cell_type": "code",
      "source": [
        "final_labels = [int(filename.split('_')[-1].split('.')[0]) for filename in os.listdir(mixed_dataset_path)]\n",
        "final_labels"
      ],
      "metadata": {
        "id": "iE5xtKyuny0W",
        "outputId": "d41b39a8-df4e-4edf-9f3c-784378e3e4af",
        "colab": {
          "base_uri": "https://localhost:8080/"
        }
      },
      "execution_count": 13,
      "outputs": [
        {
          "output_type": "execute_result",
          "data": {
            "text/plain": [
              "[0,\n",
              " 0,\n",
              " 0,\n",
              " 1,\n",
              " 1,\n",
              " 1,\n",
              " 1,\n",
              " 2,\n",
              " 0,\n",
              " 2,\n",
              " 0,\n",
              " 1,\n",
              " 1,\n",
              " 0,\n",
              " 2,\n",
              " 2,\n",
              " 0,\n",
              " 2,\n",
              " 1,\n",
              " 2,\n",
              " 2,\n",
              " 1,\n",
              " 0,\n",
              " 2,\n",
              " 0,\n",
              " 1,\n",
              " 1,\n",
              " 0,\n",
              " 0,\n",
              " 1,\n",
              " 1,\n",
              " 0,\n",
              " 0,\n",
              " 2,\n",
              " 0,\n",
              " 0,\n",
              " 1,\n",
              " 1,\n",
              " 0,\n",
              " 0,\n",
              " 2,\n",
              " 0,\n",
              " 0,\n",
              " 0,\n",
              " 1,\n",
              " 0,\n",
              " 1,\n",
              " 2,\n",
              " 1,\n",
              " 0,\n",
              " 0,\n",
              " 1,\n",
              " 1,\n",
              " 2,\n",
              " 2,\n",
              " 1,\n",
              " 2,\n",
              " 2,\n",
              " 1,\n",
              " 1,\n",
              " 0,\n",
              " 1,\n",
              " 1,\n",
              " 1,\n",
              " 0,\n",
              " 1,\n",
              " 1,\n",
              " 0,\n",
              " 2,\n",
              " 1,\n",
              " 0,\n",
              " 2,\n",
              " 1,\n",
              " 0,\n",
              " 0,\n",
              " 2,\n",
              " 1,\n",
              " 1,\n",
              " 0,\n",
              " 2,\n",
              " 0,\n",
              " 2,\n",
              " 0,\n",
              " 2,\n",
              " 2,\n",
              " 2,\n",
              " 2,\n",
              " 2,\n",
              " 0,\n",
              " 1,\n",
              " 1,\n",
              " 1,\n",
              " 0,\n",
              " 2,\n",
              " 1,\n",
              " 1,\n",
              " 0,\n",
              " 2,\n",
              " 0,\n",
              " 1,\n",
              " 1,\n",
              " 0,\n",
              " 1,\n",
              " 2,\n",
              " 0,\n",
              " 1,\n",
              " 2,\n",
              " 1,\n",
              " 2,\n",
              " 1,\n",
              " 0,\n",
              " 1,\n",
              " 2,\n",
              " 1,\n",
              " 2,\n",
              " 2,\n",
              " 0,\n",
              " 1,\n",
              " 1,\n",
              " 0,\n",
              " 0,\n",
              " 2,\n",
              " 2,\n",
              " 1,\n",
              " 2,\n",
              " 1,\n",
              " 0,\n",
              " 1,\n",
              " 0,\n",
              " 1,\n",
              " 1,\n",
              " 2,\n",
              " 0,\n",
              " 1,\n",
              " 2,\n",
              " 1,\n",
              " 0,\n",
              " 1,\n",
              " 0,\n",
              " 1,\n",
              " 0,\n",
              " 0,\n",
              " 2,\n",
              " 1,\n",
              " 0,\n",
              " 1,\n",
              " 1,\n",
              " 0,\n",
              " 2,\n",
              " 1,\n",
              " 2,\n",
              " 1,\n",
              " 2,\n",
              " 1,\n",
              " 0,\n",
              " 1,\n",
              " 1,\n",
              " 0,\n",
              " 0,\n",
              " 2,\n",
              " 1,\n",
              " 1,\n",
              " 0,\n",
              " 0,\n",
              " 0,\n",
              " 2,\n",
              " 1,\n",
              " 2,\n",
              " 2,\n",
              " 0,\n",
              " 0,\n",
              " 1,\n",
              " 1,\n",
              " 0,\n",
              " 0,\n",
              " 0,\n",
              " 1,\n",
              " 0,\n",
              " 1,\n",
              " 1,\n",
              " 1,\n",
              " 0,\n",
              " 2,\n",
              " 1,\n",
              " 1,\n",
              " 1,\n",
              " 2,\n",
              " 1,\n",
              " 1,\n",
              " 2,\n",
              " 2,\n",
              " 1,\n",
              " 0,\n",
              " 0,\n",
              " 2,\n",
              " 2,\n",
              " 1,\n",
              " 1,\n",
              " 1,\n",
              " 0,\n",
              " 2,\n",
              " 0,\n",
              " 1,\n",
              " 0,\n",
              " 1,\n",
              " 0,\n",
              " 2,\n",
              " 0,\n",
              " 2,\n",
              " 0,\n",
              " 2,\n",
              " 0,\n",
              " 0,\n",
              " 1,\n",
              " 1,\n",
              " 0,\n",
              " 1,\n",
              " 0,\n",
              " 2,\n",
              " 2,\n",
              " 1,\n",
              " 0,\n",
              " 1,\n",
              " 2,\n",
              " 0,\n",
              " 2,\n",
              " 2,\n",
              " 1,\n",
              " 2,\n",
              " 2,\n",
              " 0,\n",
              " 1,\n",
              " 0,\n",
              " 0,\n",
              " 2,\n",
              " 1,\n",
              " 0,\n",
              " 0,\n",
              " 0,\n",
              " 2,\n",
              " 1,\n",
              " 2,\n",
              " 2,\n",
              " 1,\n",
              " 0,\n",
              " 0,\n",
              " 2,\n",
              " 2,\n",
              " 2,\n",
              " 2,\n",
              " 1,\n",
              " 2,\n",
              " 2,\n",
              " 1,\n",
              " 1,\n",
              " 2,\n",
              " 1,\n",
              " 1,\n",
              " 0,\n",
              " 1,\n",
              " 2,\n",
              " 1,\n",
              " 0,\n",
              " 2,\n",
              " 0,\n",
              " 0,\n",
              " 1,\n",
              " 2,\n",
              " 0,\n",
              " 1,\n",
              " 0,\n",
              " 2,\n",
              " 1,\n",
              " 1,\n",
              " 0,\n",
              " 2,\n",
              " 1,\n",
              " 2,\n",
              " 0,\n",
              " 1,\n",
              " 0,\n",
              " 0,\n",
              " 2,\n",
              " 1,\n",
              " 0,\n",
              " 2,\n",
              " 1,\n",
              " 2,\n",
              " 1,\n",
              " 1,\n",
              " 1,\n",
              " 1,\n",
              " 0,\n",
              " 2,\n",
              " 1,\n",
              " 2,\n",
              " 2,\n",
              " 1,\n",
              " 1,\n",
              " 0,\n",
              " 2,\n",
              " 2,\n",
              " 0,\n",
              " 0,\n",
              " 0,\n",
              " 1,\n",
              " 1,\n",
              " 0,\n",
              " 1,\n",
              " 2,\n",
              " 2,\n",
              " 2,\n",
              " 2,\n",
              " 1,\n",
              " 2,\n",
              " 2,\n",
              " 0,\n",
              " 1,\n",
              " 1,\n",
              " 1,\n",
              " 1,\n",
              " 1,\n",
              " 1,\n",
              " 0,\n",
              " 1,\n",
              " 0,\n",
              " 0,\n",
              " 0,\n",
              " 0,\n",
              " 2,\n",
              " 1,\n",
              " 0,\n",
              " 0,\n",
              " 1,\n",
              " 0,\n",
              " 0,\n",
              " 1,\n",
              " 2,\n",
              " 2,\n",
              " 2,\n",
              " 1,\n",
              " 0,\n",
              " 1,\n",
              " 2,\n",
              " 1,\n",
              " 2,\n",
              " 1,\n",
              " 1,\n",
              " 1,\n",
              " 0,\n",
              " 1,\n",
              " 1,\n",
              " 0,\n",
              " 2,\n",
              " 0,\n",
              " 2,\n",
              " 0,\n",
              " 1,\n",
              " 2,\n",
              " 0,\n",
              " 1,\n",
              " 0,\n",
              " 2,\n",
              " 1,\n",
              " 0,\n",
              " 1,\n",
              " 0,\n",
              " 1,\n",
              " 2,\n",
              " 2,\n",
              " 1,\n",
              " 1,\n",
              " 1,\n",
              " 1,\n",
              " 0,\n",
              " 0,\n",
              " 2,\n",
              " 2,\n",
              " 0,\n",
              " 0,\n",
              " 1,\n",
              " 2,\n",
              " 2,\n",
              " 2,\n",
              " 0,\n",
              " 2,\n",
              " 1,\n",
              " 1,\n",
              " 0,\n",
              " 1,\n",
              " 0,\n",
              " 1,\n",
              " 2,\n",
              " 0,\n",
              " 2,\n",
              " 0,\n",
              " 0,\n",
              " 1,\n",
              " 1,\n",
              " 1,\n",
              " 1,\n",
              " 2,\n",
              " 1,\n",
              " 0,\n",
              " 1,\n",
              " 0,\n",
              " 2,\n",
              " 1,\n",
              " 1,\n",
              " 1,\n",
              " 0,\n",
              " 1,\n",
              " 2,\n",
              " 1,\n",
              " 1,\n",
              " 1,\n",
              " 0,\n",
              " 0,\n",
              " 0,\n",
              " 2,\n",
              " 1,\n",
              " 0,\n",
              " 0,\n",
              " 1,\n",
              " 1,\n",
              " 1,\n",
              " 1,\n",
              " 0,\n",
              " 2,\n",
              " 0,\n",
              " 0,\n",
              " 0,\n",
              " 0,\n",
              " 1,\n",
              " 2,\n",
              " 0,\n",
              " 2,\n",
              " 1,\n",
              " 2,\n",
              " 1,\n",
              " 0,\n",
              " 1,\n",
              " 0,\n",
              " 2,\n",
              " 2,\n",
              " 1,\n",
              " 1,\n",
              " 0,\n",
              " 1,\n",
              " 0,\n",
              " 1,\n",
              " 0,\n",
              " 1,\n",
              " 1,\n",
              " 2,\n",
              " 1,\n",
              " 0,\n",
              " 1,\n",
              " 2,\n",
              " 0,\n",
              " 1,\n",
              " 2,\n",
              " 2,\n",
              " 1,\n",
              " 2,\n",
              " 1,\n",
              " 1,\n",
              " 1,\n",
              " 0,\n",
              " 1,\n",
              " 2,\n",
              " 1,\n",
              " 1,\n",
              " 0,\n",
              " 0,\n",
              " 1,\n",
              " 0,\n",
              " 0,\n",
              " 1,\n",
              " 1,\n",
              " 1,\n",
              " 2,\n",
              " 0,\n",
              " 2,\n",
              " 0,\n",
              " 0,\n",
              " 2,\n",
              " 1,\n",
              " 1,\n",
              " 0,\n",
              " 2,\n",
              " 0,\n",
              " 2,\n",
              " 0,\n",
              " 1,\n",
              " 1,\n",
              " 1,\n",
              " 1,\n",
              " 1,\n",
              " 1,\n",
              " 0,\n",
              " 1,\n",
              " 1,\n",
              " 0,\n",
              " 2,\n",
              " 0,\n",
              " 1,\n",
              " 1,\n",
              " 0,\n",
              " 1,\n",
              " 2,\n",
              " 1,\n",
              " 2,\n",
              " 2,\n",
              " 1,\n",
              " 2,\n",
              " 1,\n",
              " 0,\n",
              " 0,\n",
              " 1,\n",
              " 1,\n",
              " 2,\n",
              " 1,\n",
              " 2,\n",
              " 1,\n",
              " 0,\n",
              " 0,\n",
              " 1,\n",
              " 1,\n",
              " 2,\n",
              " 1,\n",
              " 1,\n",
              " 0,\n",
              " 1,\n",
              " 1,\n",
              " 1,\n",
              " 1,\n",
              " 0,\n",
              " 0,\n",
              " 0,\n",
              " 1,\n",
              " 1,\n",
              " 2,\n",
              " 0,\n",
              " 0,\n",
              " 1,\n",
              " 1,\n",
              " 2,\n",
              " 1,\n",
              " 2,\n",
              " 1,\n",
              " 2,\n",
              " 2,\n",
              " 0,\n",
              " 2,\n",
              " 1,\n",
              " 1,\n",
              " 1,\n",
              " 0,\n",
              " 1,\n",
              " 2,\n",
              " 0,\n",
              " 2,\n",
              " 2,\n",
              " 2,\n",
              " 2,\n",
              " 2,\n",
              " 0,\n",
              " 0,\n",
              " 2,\n",
              " 0,\n",
              " 0,\n",
              " 1,\n",
              " 1,\n",
              " 2,\n",
              " 1,\n",
              " 2,\n",
              " 1,\n",
              " 1,\n",
              " 0,\n",
              " 2,\n",
              " 1,\n",
              " 1,\n",
              " 0,\n",
              " 2,\n",
              " 0]"
            ]
          },
          "metadata": {},
          "execution_count": 13
        }
      ]
    },
    {
      "cell_type": "code",
      "source": [
        "Burn_images = [file for file in os.listdir(mixed_dataset_path)]\n",
        "# # Burn_images"
      ],
      "metadata": {
        "id": "7lov31oioRIZ"
      },
      "execution_count": 14,
      "outputs": []
    },
    {
      "cell_type": "markdown",
      "source": [
        "# Binary Classification Approach"
      ],
      "metadata": {
        "id": "dQs7iJFDuCku"
      }
    },
    {
      "cell_type": "code",
      "source": [
        "binary_labels = [0 if label in [0, 1] else 1 for label in final_labels]"
      ],
      "metadata": {
        "id": "tgJ5o4GDuJvv"
      },
      "execution_count": 15,
      "outputs": []
    },
    {
      "cell_type": "markdown",
      "metadata": {
        "id": "jz_hYHTVwp0-"
      },
      "source": [
        "# Splitting the dataset\n"
      ]
    },
    {
      "cell_type": "code",
      "execution_count": 16,
      "metadata": {
        "id": "Pd3jJwpKHBmn"
      },
      "outputs": [],
      "source": [
        "# Split the images and labels into train and test sets\n",
        "# 4 datasets\n",
        "train_images, test_images, train_labels, test_labels = train_test_split(Burn_images, binary_labels, test_size=0.2, random_state=42)\n"
      ]
    },
    {
      "cell_type": "code",
      "execution_count": 18,
      "metadata": {
        "id": "kbrJ1KNlxxq0"
      },
      "outputs": [],
      "source": [
        "train_images_dir = '/content/train/images'\n",
        "test_images_dir = '/content/test/images'\n",
        "train_texts_dir = '/content/train/texts'\n",
        "test_texts_dir = '/content/test/texts'\n",
        "\n",
        "os.makedirs(train_images_dir, exist_ok=True)\n",
        "os.makedirs(test_images_dir, exist_ok=True)\n",
        "os.makedirs(train_texts_dir, exist_ok=True)\n",
        "os.makedirs(test_texts_dir, exist_ok=True)\n",
        "\n",
        "# Move train images and labels to the train directories\n",
        "for img_filename, label in zip(train_images, train_labels):\n",
        "    shutil.move(\n",
        "        os.path.join(mixed_dataset_path, img_filename),\n",
        "        os.path.join(train_images_dir, img_filename)\n",
        "    )\n",
        "    with open(os.path.join(train_texts_dir, f'{img_filename.split(\".\")[0]}.txt'), 'w') as label_file:\n",
        "        label_file.write(str(label))  # Writing the label to the text file\n",
        "\n",
        "# Move test images and labels to the test directories\n",
        "for img_filename, label in zip(test_images, test_labels):\n",
        "    shutil.move(\n",
        "        os.path.join(mixed_dataset_path, img_filename),\n",
        "        os.path.join(test_images_dir, img_filename)\n",
        "    )\n",
        "    with open(os.path.join(test_texts_dir, f'{img_filename.split(\".\")[0]}.txt'), 'w') as label_file:\n",
        "        label_file.write(str(label))  # Writing the label to the text file"
      ]
    },
    {
      "cell_type": "code",
      "execution_count": 19,
      "metadata": {
        "id": "R31AVT9JkzXq"
      },
      "outputs": [],
      "source": [
        "# Get the list of images in train and test folders\n",
        "train_image_names = [filename for filename in os.listdir('/content/train/images') if filename.endswith('.jpg') or filename.endswith('.jpeg')]\n",
        "test_image_names = [filename for filename in os.listdir('/content/test/images') if filename.endswith('.jpg') or filename.endswith('.jpeg')]"
      ]
    },
    {
      "cell_type": "markdown",
      "source": [
        "# Visualize Data Distribution"
      ],
      "metadata": {
        "id": "39P5VyeZfeXU"
      }
    },
    {
      "cell_type": "code",
      "source": [
        "class_0_size = sum([1 for label in final_labels if label==0])\n",
        "class_1_size = sum([1 for label in final_labels if label==1])\n",
        "class_2_size = sum([1 for label in final_labels if label==2])\n",
        "\n",
        "print('Number of samples in class 1: ', class_0_size)\n",
        "print('Number of samples in class 2: ', class_1_size)\n",
        "print('Number of samples in class 3: ', class_2_size)\n",
        "\n",
        "\n",
        "numbers = [class_0_size, class_1_size, class_2_size]\n",
        "labels = ['First Degree Burn', 'Second Degree Burn', 'Third Degree Burn']\n",
        "\n",
        "plt.bar(labels, numbers)\n",
        "plt.show()"
      ],
      "metadata": {
        "colab": {
          "base_uri": "https://localhost:8080/",
          "height": 482
        },
        "id": "aifZ2Bj3fyIO",
        "outputId": "f9802d75-154b-4fe6-8779-df20c1bfa59d"
      },
      "execution_count": 20,
      "outputs": [
        {
          "output_type": "stream",
          "name": "stdout",
          "text": [
            "Number of samples in class 1:  188\n",
            "Number of samples in class 2:  238\n",
            "Number of samples in class 3:  160\n"
          ]
        },
        {
          "output_type": "display_data",
          "data": {
            "text/plain": [
              "<Figure size 640x480 with 1 Axes>"
            ],
            "image/png": "[encoded data removed]"
          },
          "metadata": {}
        }
      ]
    },
    {
      "cell_type": "code",
      "source": [
        "class_0_size = sum([1 for label in final_labels if label==0])\n",
        "class_1_size = sum([1 for label in final_labels if label==1])\n",
        "class_2_size = sum([1 for label in final_labels if label==2])\n",
        "\n",
        "print('Number of samples in class 1: ', class_0_size)\n",
        "print('Number of samples in class 2: ', class_1_size)\n",
        "print('Number of samples in class 3: ', class_2_size)\n",
        "\n",
        "\n",
        "numbers = [class_0_size, class_1_size, class_2_size]\n",
        "labels = ['First Degree Burn', 'Second Degree Burn', 'Third Degree Burn']\n",
        "\n",
        "plt.pie(numbers, labels=labels)\n",
        "plt.show()"
      ],
      "metadata": {
        "colab": {
          "base_uri": "https://localhost:8080/",
          "height": 458
        },
        "id": "waona9gefy7L",
        "outputId": "d9675510-2b83-419d-fc12-db42106fdc6d"
      },
      "execution_count": 21,
      "outputs": [
        {
          "output_type": "stream",
          "name": "stdout",
          "text": [
            "Number of samples in class 1:  188\n",
            "Number of samples in class 2:  238\n",
            "Number of samples in class 3:  160\n"
          ]
        },
        {
          "output_type": "display_data",
          "data": {
            "text/plain": [
              "<Figure size 640x480 with 1 Axes>"
            ],
            "image/png": "[encoded data removed]"
          },
          "metadata": {}
        }
      ]
    },
    {
      "cell_type": "markdown",
      "source": [
        "# **Transfer Learning**"
      ],
      "metadata": {
        "id": "oKTCqJ1WhAdM"
      }
    },
    {
      "cell_type": "markdown",
      "source": [
        "## Paper's Architecture"
      ],
      "metadata": {
        "id": "UuRugMUMr45z"
      }
    },
    {
      "cell_type": "code",
      "execution_count": null,
      "metadata": {
        "id": "sudm95akA4wt"
      },
      "outputs": [],
      "source": [
        "class MyCNNModel(nn.Module):\n",
        "    def __init__(self, num_classes=3):\n",
        "\n",
        "        super(MyCNNModel, self).__init__()\n",
        "        # Transfer Learning Layer (ResNet50)\n",
        "        model = models.resnet50(pretrained=True)\n",
        "        n_inputs = model.fc.in_features\n",
        "\n",
        "        # Freeze the model's weights\n",
        "        for param in model.parameters():\n",
        "            param.requires_grad = False\n",
        "\n",
        "        # Remove the avgpool and fc layers\n",
        "        model = nn.Sequential(*list(model.children())[:-2])\n",
        "\n",
        "        # Add a new layer to the ResNet50 model for the multi-label classification task.\n",
        "        model.fc = nn.Sequential(nn.Conv2d(n_inputs, 128, kernel_size=3, padding=1, stride=1),\n",
        "                                 nn.Softmax(dim=1),\n",
        "                                 nn.MaxPool2d(kernel_size=4, stride=4, padding=1, dilation=1, ceil_mode=False),\n",
        "\n",
        "                                 nn.Conv2d(128, 64, kernel_size=3, padding=1, stride=2),\n",
        "                                 nn.Softmax(dim=1),\n",
        "                                 nn.MaxPool2d(kernel_size=2, stride=2, padding=1, dilation=1, ceil_mode=False),\n",
        "\n",
        "                                 nn.Dropout(p=0.2),\n",
        "\n",
        "                                 nn.Flatten(),\n",
        "                                 nn.Linear(in_features = 64, out_features =3),\n",
        "                                )\n",
        "\n",
        "        # Unfreeze the last few layers of the model\n",
        "        for param in model.fc.parameters():\n",
        "            param.requires_grad = True\n",
        "\n",
        "        self.resnet50 = model\n",
        "\n",
        "    def forward(self, x):\n",
        "        x = self.resnet50(x)\n",
        "        #print('Shape Before Flattening: ', x.shape)\n",
        "        # Flatten the output\n",
        "        # x = x.view(x.size(0), -1)\n",
        "        # print('Shape After Flattening: ', x.shape)\n",
        "        return x"
      ]
    },
    {
      "cell_type": "markdown",
      "source": [
        "# Pretrained Models"
      ],
      "metadata": {
        "id": "WqiEi3Dzu9KB"
      }
    },
    {
      "cell_type": "markdown",
      "source": [
        "### **1.ResNet50**"
      ],
      "metadata": {
        "id": "3_SXdYyc9GJf"
      }
    },
    {
      "cell_type": "code",
      "source": [
        "# Load the pre-trained Resnet50 model\n",
        "resnet50_pretrained = models.resnet50(pretrained=True)\n",
        "\n",
        "# Number of input features for the fc layer\n",
        "n_inputs = resnet50_pretrained.fc.in_features\n",
        "\n",
        "# Replace the fc layer with a new one for 3 classes\n",
        "resnet50_pretrained.fc = nn.Linear(n_inputs, 3)\n",
        "\n",
        "#print(resnet50_pretrained)\n",
        "\n",
        "# Freeze The original resnet50 model\n",
        "for name, param in resnet50_pretrained.named_parameters():\n",
        "    param.requires_grad = False\n",
        "    # print(name, param.requires_grad)\n",
        "\n",
        "\n",
        "# Unfreeze The original resnet50 model fc layer\n",
        "for param in resnet50_pretrained.fc.parameters():\n",
        "    param.requires_grad = True\n",
        "    # print(name, param.requires_grad)"
      ],
      "metadata": {
        "id": "41EEtNZJ9MW2",
        "outputId": "0bdd48df-2690-4131-d295-6678557da29e",
        "colab": {
          "base_uri": "https://localhost:8080/"
        }
      },
      "execution_count": 22,
      "outputs": [
        {
          "output_type": "stream",
          "name": "stderr",
          "text": [
            "/usr/local/lib/python3.10/dist-packages/torchvision/models/_utils.py:208: UserWarning: The parameter 'pretrained' is deprecated since 0.13 and may be removed in the future, please use 'weights' instead.\n",
            "  warnings.warn(\n",
            "/usr/local/lib/python3.10/dist-packages/torchvision/models/_utils.py:223: UserWarning: Arguments other than a weight enum or `None` for 'weights' are deprecated since 0.13 and may be removed in the future. The current behavior is equivalent to passing `weights=ResNet50_Weights.IMAGENET1K_V1`. You can also use `weights=ResNet50_Weights.DEFAULT` to get the most up-to-date weights.\n",
            "  warnings.warn(msg)\n",
            "Downloading: \"https://download.pytorch.org/models/resnet50-0676ba61.pth\" to /root/.cache/torch/hub/checkpoints/resnet50-0676ba61.pth\n",
            "100%|██████████| 97.8M/97.8M [00:01<00:00, 56.0MB/s]\n"
          ]
        }
      ]
    },
    {
      "cell_type": "markdown",
      "source": [
        "### **2.DenseNet**"
      ],
      "metadata": {
        "id": "_OJVq9q0wlzu"
      }
    },
    {
      "cell_type": "code",
      "execution_count": null,
      "metadata": {
        "id": "3APUlgkJtroT"
      },
      "outputs": [],
      "source": [
        "# Load the pre-trained DenseNet121 model\n",
        "densenet121_pretrained = models.densenet121(pretrained=True)\n",
        "\n",
        "# Number of input features for the classifier layer\n",
        "num_features = densenet121_pretrained.classifier.in_features\n",
        "\n",
        "# Replace the classifier layer with a new one for 3 classes\n",
        "densenet121_pretrained.classifier = nn.Linear(num_features, 3)"
      ]
    },
    {
      "cell_type": "markdown",
      "source": [
        "### **3.MobileNet**"
      ],
      "metadata": {
        "id": "ikObRUHhwr1R"
      }
    },
    {
      "cell_type": "code",
      "execution_count": null,
      "metadata": {
        "id": "WMemyoSGpacZ"
      },
      "outputs": [],
      "source": [
        "# Load the pre-trained MobileNetV2 model\n",
        "mobilenet_v2_pretrained = models.mobilenet_v2(pretrained=True)\n",
        "\n",
        "# For MobileNetV2, the input features to the classifier are 1280, so we use that number here.\n",
        "mobilenet_v2_pretrained.classifier[1] = nn.Linear(mobilenet_v2_pretrained.last_channel, 3)"
      ]
    },
    {
      "cell_type": "markdown",
      "metadata": {
        "id": "v_E1c2AKbnGD"
      },
      "source": [
        "# Convolutional Layers & Dense Layers"
      ]
    },
    {
      "cell_type": "markdown",
      "metadata": {
        "id": "i22TDJYiR4ob"
      },
      "source": [
        "### **1. ResNet50**"
      ]
    },
    {
      "cell_type": "code",
      "execution_count": null,
      "metadata": {
        "id": "WB98EZ94R86_"
      },
      "outputs": [],
      "source": [
        "class ModifiedResNet50(nn.Module):\n",
        "    def __init__(self, num_classes):\n",
        "        super(ModifiedResNet50, self).__init__()\n",
        "        # Load the pretrained ResNet50 model\n",
        "        self.base_model = models.resnet50(pretrained=True)\n",
        "        self.n_inputs = self.base_model.fc.in_features\n",
        "\n",
        "        # Freeze the weights of the original layers\n",
        "        for param in self.base_model.parameters():\n",
        "            param.requires_grad = False\n",
        "\n",
        "        # Unfreeze the last 4 layers' weights of the original model\n",
        "        for name, param in self.base_model.named_parameters():\n",
        "          if 'layer' in name:\n",
        "            param.requires_grad = True\n",
        "\n",
        "        # Remove the final classification layer\n",
        "        self.base_model = nn.Sequential(*list(self.base_model.children())[:-1])\n",
        "\n",
        "        # Additional convolutional layers\n",
        "        self.additional_layers = nn.Sequential(\n",
        "            nn.Conv2d(self.n_inputs, 512, kernel_size=3, stride=1, padding=1),\n",
        "            nn.ReLU(),\n",
        "            nn.MaxPool2d(kernel_size=2, stride=2, padding=1),  # Adjust padding to avoid size mismatch\n",
        "            nn.Conv2d(512, 256, kernel_size=3, stride=1, padding=1),\n",
        "            nn.ReLU(),\n",
        "            nn.MaxPool2d(kernel_size=2, stride=2, padding=1),  # Adjust padding to avoid size mismatch\n",
        "\n",
        "            nn.Conv2d(256, 128, kernel_size=3, stride=1, padding=1),\n",
        "            nn.ReLU(),\n",
        "            nn.MaxPool2d(kernel_size=2, stride=2, padding=1),  # Adjust padding to avoid size mismatch\n",
        "            nn.Conv2d(128, 64, kernel_size=3, stride=1, padding=1),\n",
        "            nn.ReLU(),\n",
        "            nn.MaxPool2d(kernel_size=2, stride=2, padding=1),  # Adjust padding to avoid size mismatch\n",
        "            nn.Dropout(p=0.2),\n",
        "        )\n",
        "\n",
        "        # Global Average Pooling\n",
        "        self.global_avg_pooling = nn.AdaptiveAvgPool2d(1)\n",
        "\n",
        "        # Dense layers\n",
        "        self.dense_layers = nn.Sequential(nn.Flatten(),\n",
        "                                          nn.Linear(64, 128),\n",
        "                                          nn.ReLU(inplace=True),\n",
        "                                          nn.Dropout(p=0.3),\n",
        "\n",
        "                                          nn.Linear(128, 64),\n",
        "                                          nn.ReLU(inplace=True),\n",
        "                                          nn.Dropout(p=0.3)\n",
        "                                          )\n",
        "\n",
        "        # Output layer\n",
        "        self.output_layer = nn.Sequential(\n",
        "                                          #nn.Flatten(),\n",
        "                                          nn.Linear(64, num_classes),\n",
        "                                          )\n",
        "\n",
        "\n",
        "    def forward(self, x):\n",
        "        x = self.base_model(x)\n",
        "        x = self.additional_layers(x)\n",
        "        x = self.global_avg_pooling(x)\n",
        "        x = self.dense_layers(x)\n",
        "        x = self.output_layer(x)\n",
        "        return x\n",
        "\n",
        "## lr = 0.09200775000637837 , batch_size = 16 , epochs = 31\n",
        "# # Accuracy of -- For convolutional layers only using 5 epochs compared to --\n",
        "# model = ModifiedResNet50(num_classes=3)\n",
        "# # Verify which layers are trainable\n",
        "# for name, param in model.named_parameters():\n",
        "#     print(f\"{name}: {param.requires_grad}\")"
      ]
    },
    {
      "cell_type": "markdown",
      "metadata": {
        "id": "YvKPUOC8AdDa"
      },
      "source": [
        "### **2. DenseNet**"
      ]
    },
    {
      "cell_type": "code",
      "execution_count": null,
      "metadata": {
        "id": "ycfP9tbQAg41"
      },
      "outputs": [],
      "source": [
        "class ModifiedDenseNet(nn.Module):\n",
        "    def __init__(self, num_classes):\n",
        "        super(ModifiedDenseNet, self).__init__()\n",
        "        # Load the pretrained DenseNet model\n",
        "        self.base_model = models.densenet121(pretrained=True)\n",
        "        self.n_inputs = self.base_model.classifier.in_features\n",
        "\n",
        "        # Remove the final classification layer\n",
        "        self.base_model = nn.Sequential(*list(self.base_model.children())[:-1])\n",
        "\n",
        "        # Additional convolutional layers\n",
        "        self.additional_layers = nn.Sequential(\n",
        "            nn.Conv2d(self.n_inputs, 512, kernel_size=3, stride=1, padding=1),\n",
        "            nn.ReLU(),\n",
        "            nn.MaxPool2d(kernel_size=2, stride=2, padding=1),  # Adjust padding to avoid size mismatch\n",
        "            nn.Conv2d(512, 256, kernel_size=3, stride=1, padding=1),\n",
        "            nn.ReLU(),\n",
        "            nn.MaxPool2d(kernel_size=2, stride=2, padding=1),  # Adjust padding to avoid size mismatch\n",
        "\n",
        "            nn.Conv2d(256, 128, kernel_size=3, stride=1, padding=1),\n",
        "            nn.ReLU(),\n",
        "            nn.MaxPool2d(kernel_size=2, stride=2, padding=1),  # Adjust padding to avoid size mismatch\n",
        "            nn.Conv2d(128, 64, kernel_size=3, stride=1, padding=1),\n",
        "            nn.ReLU(),\n",
        "            nn.MaxPool2d(kernel_size=2, stride=2, padding=1),  # Adjust padding to avoid size mismatch\n",
        "            nn.Dropout(p=0.2),\n",
        "        )\n",
        "\n",
        "        # Global Average Pooling\n",
        "        self.global_avg_pooling = nn.AdaptiveAvgPool2d(1)\n",
        "\n",
        "        # Dense layers\n",
        "        self.dense_layers = nn.Sequential(nn.Flatten(),         # Flatten the tensor before passing to dense layers\n",
        "                                          nn.Linear(64, 256),\n",
        "                                          nn.ReLU(inplace=True),\n",
        "                                          nn.Dropout(p=0.5),\n",
        "                                          nn.Linear(256, 128),\n",
        "                                          nn.ReLU(inplace=True),\n",
        "                                          nn.Dropout(p=0.5),\n",
        "                                          nn.Linear(128, 64),\n",
        "                                          nn.ReLU(inplace=True),\n",
        "                                          nn.Dropout(p=0.3)\n",
        "                                        )\n",
        "\n",
        "        # Output layer\n",
        "        self.output_layer = nn.Sequential(\n",
        "                                          nn.Linear(64, num_classes),\n",
        "                                          )\n",
        "\n",
        "        # Freeze the weights of the original layers\n",
        "        for param in self.base_model.parameters():\n",
        "            param.requires_grad = False\n",
        "\n",
        "    def forward(self, x):\n",
        "        x = self.base_model(x)\n",
        "        x = self.additional_layers(x)\n",
        "        x = self.global_avg_pooling(x)\n",
        "        #x = x.view(x.size(0), -1)         # Flatten the tensor before passing to dense layers\n",
        "        x = self.dense_layers(x)\n",
        "        x = self.output_layer(x)\n",
        "        return x\n",
        "\n",
        "\n",
        "# model = ModifiedDenseNet(num_classes= 3)\n",
        "# # Verify which layers are trainable\n",
        "# for name, param in model.named_parameters():\n",
        "#     print(f\"{name}: {param.requires_grad}\")"
      ]
    },
    {
      "cell_type": "markdown",
      "metadata": {
        "id": "HBSunvfKV2kN"
      },
      "source": [
        "### **3. MobileNet**"
      ]
    },
    {
      "cell_type": "code",
      "execution_count": null,
      "metadata": {
        "id": "ngFwx7oZV6ci"
      },
      "outputs": [],
      "source": [
        "class ModifiedMobileNet(nn.Module):\n",
        "    def __init__(self, num_classes):\n",
        "        super(ModifiedMobileNet, self).__init__()\n",
        "        # Load the pretrained MobileNet model\n",
        "        self.base_model = models.mobilenet_v2(pretrained=True)\n",
        "        self.n_inputs = self.base_model.classifier[1].in_features\n",
        "\n",
        "        # Remove the final classification layer\n",
        "        self.base_model = nn.Sequential(*list(self.base_model.children())[:-1])\n",
        "\n",
        "        # Additional convolutional layers\n",
        "        self.additional_layers = nn.Sequential(\n",
        "            nn.Conv2d(self.n_inputs, 512, kernel_size=3, stride=1, padding=1),\n",
        "            nn.ReLU(),\n",
        "            nn.MaxPool2d(kernel_size=2, stride=2, padding=1),  # Adjust padding to avoid size mismatch\n",
        "            nn.Conv2d(512, 256, kernel_size=3, stride=1, padding=1),\n",
        "            nn.ReLU(),\n",
        "            nn.MaxPool2d(kernel_size=2, stride=2, padding=1),  # Adjust padding to avoid size mismatch\n",
        "\n",
        "            nn.Conv2d(256, 128, kernel_size=3, stride=1, padding=1),\n",
        "            nn.ReLU(),\n",
        "            nn.MaxPool2d(kernel_size=2, stride=2, padding=1),  # Adjust padding to avoid size mismatch\n",
        "            nn.Conv2d(128, 64, kernel_size=3, stride=1, padding=1),\n",
        "            nn.ReLU(),\n",
        "            nn.MaxPool2d(kernel_size=2, stride=2, padding=1),  # Adjust padding to avoid size mismatch\n",
        "            nn.Dropout(p=0.2),\n",
        "        )\n",
        "\n",
        "        # Global Average Pooling\n",
        "        self.global_avg_pooling = nn.AdaptiveAvgPool2d(1)\n",
        "\n",
        "        # Dense Layers\n",
        "        self.dense_layers = nn.Sequential(nn.Flatten(),           # Flatten the tensor before passing to dense layers\n",
        "                                          nn.Linear(64, 128),\n",
        "                                          nn.ReLU(inplace=True),\n",
        "                                          nn.Dropout(p=0.5),\n",
        "                                          nn.Linear(128, 64),\n",
        "                                          nn.ReLU(inplace=True),\n",
        "                                          nn.Dropout(p=0.3)\n",
        "                                          )\n",
        "\n",
        "        # Output layer\n",
        "        self.output_layer = nn.Sequential(\n",
        "                                          nn.Linear(64, num_classes),\n",
        "                                          )\n",
        "\n",
        "        # Freeze the weights of the original layers\n",
        "        for param in self.base_model.parameters():\n",
        "            param.requires_grad = False\n",
        "\n",
        "\n",
        "    def forward(self, x):\n",
        "        x = self.base_model(x)\n",
        "        x = self.additional_layers(x)\n",
        "        x = self.global_avg_pooling(x)\n",
        "        #x = x.view(x.size(0), -1)           # Flatten the tensor before passing to dense layers\n",
        "        x = self.dense_layers(x)\n",
        "        x = self.output_layer(x)\n",
        "        return x\n",
        "\n",
        "\n",
        "# Accuracy of 44.07% For convolutional layers only using 5 epochs compared to 28%\n",
        "#model = ModifiedMobileNet(num_classes=3)\n",
        "# # Verify which layers are trainable\n",
        "# for name, param in model.named_parameters():\n",
        "#     print(f\"{name}: {param.requires_grad}\")"
      ]
    },
    {
      "cell_type": "markdown",
      "metadata": {
        "id": "nPV3iTzxaW-v"
      },
      "source": [
        "# Dense Layers"
      ]
    },
    {
      "cell_type": "markdown",
      "metadata": {
        "id": "4VLnjz3d9368"
      },
      "source": [
        "### **1. ResNet50**\n"
      ]
    },
    {
      "cell_type": "code",
      "execution_count": null,
      "metadata": {
        "id": "GwzxJvgT_Ew2"
      },
      "outputs": [],
      "source": [
        "resnet50_dense = models.resnet50(pretrained=True)\n",
        "n_inputs = resnet50_dense.fc.in_features\n",
        "#print(f'Before: {resnet50}')\n",
        "\n",
        "# Unfreeze The original resnet50 model\n",
        "for name, param in resnet50_dense.named_parameters():\n",
        "    param.requires_grad = False\n",
        "\n",
        "# Remove the fc layers\n",
        "resnet50_dense = nn.Sequential(*list(resnet50_dense.children())[:-1])\n",
        "\n",
        "# # Freeze the weights of the ResNet50 model\n",
        "for param in resnet50_dense.parameters():\n",
        "    param.requires_grad = False\n",
        "\n",
        "\n",
        "# Add a new layer to the ResNet50 model for the multi-label classification task.\n",
        "resnet50_dense.fc = nn.Sequential(nn.Flatten(),\n",
        "                            nn.Linear(n_inputs*7*7, 128),\n",
        "                            nn.ReLU(inplace=True),\n",
        "                            nn.Dropout(p=0.5),\n",
        "\n",
        "                            nn.Linear(128, 64),\n",
        "                            nn.ReLU(inplace=True),\n",
        "                            nn.Dropout(p=0.5),\n",
        "\n",
        "                            nn.Linear(64, 3)\n",
        "                            )\n",
        "\n",
        "\n",
        "\n",
        "# Unfreeze the last few layers of the model\n",
        "for param in resnet50_dense.fc.parameters():\n",
        "    param.requires_grad = True\n",
        "#print(f'After: {resnet50}')"
      ]
    },
    {
      "cell_type": "markdown",
      "metadata": {
        "id": "9glztP5_NwUA"
      },
      "source": [
        "### **2. DenseNet**"
      ]
    },
    {
      "cell_type": "code",
      "execution_count": null,
      "metadata": {
        "id": "yoYRZDQbM2tI"
      },
      "outputs": [],
      "source": [
        "densenet_dense = models.densenet121(pretrained=True)\n",
        "\n",
        "# Replace the classifier with a new sequential classifier\n",
        "densenet_dense.classifier = nn.Sequential(\n",
        "    nn.Linear(1024, 128),\n",
        "    nn.ReLU(inplace=True),\n",
        "    nn.Dropout(p=0.5),\n",
        "    nn.Linear(128, 64),\n",
        "    nn.ReLU(inplace=True),\n",
        "    nn.Dropout(p=0.5),\n",
        "    nn.Linear(64, 3)  # Assuming you are classifying into 3 classes\n",
        ")\n",
        "\n",
        "# Freeze the features parameters\n",
        "for param in densenet_dense.features.parameters():\n",
        "    param.requires_grad = False\n",
        "\n",
        "# Unfreeze the classifier parameters\n",
        "for param in densenet_dense.classifier.parameters():\n",
        "    param.requires_grad = True"
      ]
    },
    {
      "cell_type": "markdown",
      "metadata": {
        "id": "kFkCykSR76mw"
      },
      "source": [
        "### **3. Mobilenet**"
      ]
    },
    {
      "cell_type": "code",
      "execution_count": null,
      "metadata": {
        "id": "1VGt_6fW1ItG"
      },
      "outputs": [],
      "source": [
        "mobilenet_dense = models.mobilenet_v2(pretrained=True)\n",
        "num_features = mobilenet_dense.classifier[1].in_features\n",
        "\n",
        "mobilenet_dense.classifier[1] = nn.Sequential(\n",
        "    nn.Linear(num_features, 128),\n",
        "    nn.ReLU(inplace=True),\n",
        "    nn.Dropout(p=0.5),\n",
        "\n",
        "    nn.Linear(128, 64),\n",
        "    nn.ReLU(inplace=True),\n",
        "    nn.Dropout(p=0.5),\n",
        "\n",
        "    nn.Linear(64, 3)\n",
        ")\n",
        "\n",
        "for param in mobilenet_dense.parameters():\n",
        "    param.requires_grad = False\n",
        "\n",
        "for param in mobilenet_dense.classifier[1].parameters():\n",
        "    param.requires_grad = True"
      ]
    },
    {
      "cell_type": "markdown",
      "source": [
        "MobileNet with dropout layer"
      ],
      "metadata": {
        "id": "5FfQGoCVvEWe"
      }
    },
    {
      "cell_type": "code",
      "execution_count": null,
      "metadata": {
        "id": "WvJxlvLxovWT"
      },
      "outputs": [],
      "source": [
        "# Load the pre-trained MobileNetV2 model\n",
        "mobilenet_v2_pretrained_dropout = models.mobilenet_v2(pretrained=True)\n",
        "\n",
        "# Number of input features for the classifier layer\n",
        "num_features = mobilenet_v2_pretrained_dropout.classifier[1].in_features\n",
        "\n",
        "# Replace the classifier layer with a new one for 3 classes\n",
        "mobilenet_v2_pretrained_dropout.classifier = nn.Sequential(\n",
        "    nn.Dropout(0.2),\n",
        "    nn.Linear(num_features, 3)\n",
        ")"
      ]
    },
    {
      "cell_type": "markdown",
      "source": [
        "# Unfreezing"
      ],
      "metadata": {
        "id": "FKBz6FjouX_A"
      }
    },
    {
      "cell_type": "markdown",
      "source": [
        "### **1. Unfreezing last 4 layers of ResNet50** (without any extra layers)"
      ],
      "metadata": {
        "id": "V-dV6mXz7Kce"
      }
    },
    {
      "cell_type": "code",
      "source": [
        "# Load the pre-trained Resnet50 model\n",
        "resnet50_model_unfreezed4 = models.resnet50(pretrained=True)\n",
        "\n",
        "#Freeze all weights of the original model\n",
        "for param in resnet50_model_unfreezed4.parameters():\n",
        "  param.requires_grad = False\n",
        "\n",
        "# Unfreeze the last 4 layers' weights of the original model\n",
        "for name, param in resnet50_model_unfreezed4.named_parameters():\n",
        "  #print(name)\n",
        "  if 'layer' in name:\n",
        "    param.requires_grad = True\n",
        "\n",
        "# Check for parameters' condition\n",
        "for name, param in resnet50_model_unfreezed4.named_parameters():\n",
        "    print(name, param.requires_grad)"
      ],
      "metadata": {
        "id": "AGOUoOLk7Jyo"
      },
      "execution_count": null,
      "outputs": []
    },
    {
      "cell_type": "markdown",
      "source": [
        "### **2. Unfreezing last 5 layers of DenseNet** (without any extra layers)"
      ],
      "metadata": {
        "id": "Aned8Tu5xsVq"
      }
    },
    {
      "cell_type": "code",
      "source": [
        "# Load the pre-trained DenseNet121 model\n",
        "densenet121_model_unfreezed5 = models.densenet121(pretrained=True)\n",
        "# Number of input features for the classifier layer\n",
        "num_features = densenet121_model_unfreezed5.classifier.in_features\n",
        "\n",
        "# Replace the classifier layer with a new one for 3 classes\n",
        "densenet121_model_unfreezed5.classifier = nn.Linear(num_features, 3)\n",
        "\n",
        "# First, freeze all parameters by setting requires_grad to False\n",
        "for param in densenet121_model_unfreezed5.parameters():\n",
        "    param.requires_grad = False\n",
        "\n",
        "# Unfreeze the classifier\n",
        "for param in densenet121_model_unfreezed5.classifier.parameters():\n",
        "    param.requires_grad = True\n",
        "\n",
        "# Unfreeze layers in the last Dense Block (DenseBlock4 in DenseNet121)\n",
        "# Note: This is an approximation since DenseNet layers are grouped into blocks ???\n",
        "dense_block4 = densenet121_model_unfreezed5.features.denseblock4\n",
        "for module in list(dense_block4.children())[-5:]:\n",
        "    for param in module.parameters():\n",
        "        param.requires_grad = True\n",
        "\n",
        "# check which parameters are unfrozen\n",
        "# for name, param in densenet121_model_unfreezed5.named_parameters():\n",
        "#     if param.requires_grad:\n",
        "#         print(name)"
      ],
      "metadata": {
        "id": "f_940zEJwKts"
      },
      "execution_count": null,
      "outputs": []
    },
    {
      "cell_type": "markdown",
      "metadata": {
        "id": "vkWqeOakkulq"
      },
      "source": [
        "### **3. Unfreezing last 5 layers of MobileNet** (without any extra layers)"
      ]
    },
    {
      "cell_type": "code",
      "execution_count": null,
      "metadata": {
        "id": "GxKXAkJykt67"
      },
      "outputs": [],
      "source": [
        "mobilenet_model_unfreezed5 = models.mobilenet_v2(pretrained=True)\n",
        "\n",
        "# For MobileNetV2, the input features to the classifier are 1280, so we use that number here.\n",
        "mobilenet_model_unfreezed5.classifier[1] = nn.Linear(mobilenet_model_unfreezed5.last_channel, 3)\n",
        "\n",
        "# Unfreeze the last 5 layers\n",
        "# First, freeze all parameters for training\n",
        "for param in mobilenet_model_unfreezed5.parameters():\n",
        "    param.requires_grad = False\n",
        "\n",
        "# Count the number of layers\n",
        "total_layers = len(list(mobilenet_model_unfreezed5.features.children()))\n",
        "\n",
        "# Unfreeze the last 5 layers\n",
        "for layer in list(mobilenet_model_unfreezed5.features.children())[total_layers-5:]:\n",
        "    for param in layer.parameters():\n",
        "        param.requires_grad = True"
      ]
    },
    {
      "cell_type": "markdown",
      "source": [
        "# Helper Functions"
      ],
      "metadata": {
        "id": "3JK4984YWgd-"
      }
    },
    {
      "cell_type": "code",
      "execution_count": 23,
      "metadata": {
        "id": "EGlStZIf9jDq"
      },
      "outputs": [],
      "source": [
        "# Define a custom dataset class that loads the images and labels in list form\n",
        "class MultiLabelDataset(torch.utils.data.Dataset):\n",
        "\n",
        "    def __init__(self, root_path, imgs_names, labels, transform):\n",
        "        self.imgs_names = imgs_names\n",
        "        self.root_path = root_path\n",
        "        self.labels = labels\n",
        "        self.transform = transform\n",
        "\n",
        "    # Get the size of the dataset\n",
        "    def __len__(self):\n",
        "        return len(self.labels)\n",
        "\n",
        "    # Will return only single batch of the dataset as a tuple\n",
        "    def __getitem__(self, idx):\n",
        "        image = Image.open(os.path.join(self.root_path, self.imgs_names[idx]))\n",
        "        image = self.transform(image).to(device)\n",
        "        label = torch.tensor(int(self.labels[idx]))\n",
        "        return image, label"
      ]
    },
    {
      "cell_type": "markdown",
      "source": [
        "### Seeding Functions"
      ],
      "metadata": {
        "id": "H5128NP5gvxx"
      }
    },
    {
      "cell_type": "code",
      "execution_count": 24,
      "metadata": {
        "id": "tsWQ7FiA0r9X"
      },
      "outputs": [],
      "source": [
        "def set_seed(seed, disable_cudnn=False):\n",
        "    np.random.seed(seed)\n",
        "\n",
        "    torch.manual_seed(seed)           # Set the seed for generating random numbers for the current GPU\n",
        "    torch.cuda.manual_seed_all(seed)  # Set the seed for generating random numbers for all GPUs\n",
        "\n",
        "    rs = RandomState(MT19937(SeedSequence(seed))) # If any of the libraries or code rely on NumPy seed the global NumPy RNG\n",
        "\n",
        "    if not disable_cudnn:\n",
        "      torch.backends.cudnn.benchmark = False    # Causes cuDNN to deterministically select an algorithm, possibly at the cost of reduced performance (the algorithm itself may be nondeterministic).\n",
        "      torch.backends.cudnn.deterministic = True # Causes cuDNN to use a deterministic convolution algorithm, but may slow down performance.\n",
        "                                                #  It will not guarantee that your training process is deterministic, if you are using other libraries that may use nondeterministic algorithms\n",
        "    else:\n",
        "      torch.backends.cudnn.enabled = False # Controls whether cuDNN is enabled or not. If you want to enable cuDNN, set it to True\n",
        "\n",
        "\n",
        "# Set a fixed seed for reproducibility\n",
        "seed = 42  # 12345\n",
        "set_seed(seed)"
      ]
    },
    {
      "cell_type": "code",
      "source": [
        "def seed_batches(train_dataset,random_seed):\n",
        "\n",
        "    num_train = len(train_dataset)\n",
        "    indices = list(range(num_train))\n",
        "\n",
        "    np.random.seed(random_seed)\n",
        "    np.random.shuffle(indices)\n",
        "\n",
        "    train_idx = indices\n",
        "    train_sampler = SubsetRandomSampler(train_idx)\n",
        "\n",
        "    return train_sampler"
      ],
      "metadata": {
        "id": "TqxH1GzuguZc"
      },
      "execution_count": 25,
      "outputs": []
    },
    {
      "cell_type": "markdown",
      "metadata": {
        "id": "uoUmQh0O-BjA"
      },
      "source": [
        "### Function to choose loss criterion & optimizer"
      ]
    },
    {
      "cell_type": "code",
      "execution_count": 26,
      "metadata": {
        "id": "xiT2o8HYAy6x"
      },
      "outputs": [],
      "source": [
        "def get_parameters(lr, model):\n",
        "  # Cross Entropy Loss\n",
        "  criterion = nn.CrossEntropyLoss()\n",
        "  # Stochastic Gradient Descent optimizer\n",
        "  optimizer = optim.SGD(model.parameters(), lr=lr)\n",
        "  # Create the learning rate scheduler\n",
        "  scheduler = ReduceLROnPlateau(optimizer, mode='min', factor=0.1, patience=5)  # Ignore the first 5 epochs and start decaying at the 6th epoch by a factor of 0.1 at the first stop in decreasing\n",
        "  model = model.to(device)\n",
        "  return model, optimizer, criterion, scheduler"
      ]
    },
    {
      "cell_type": "markdown",
      "metadata": {
        "id": "KspJCLLK-IRJ"
      },
      "source": [
        "### Function to train the model"
      ]
    },
    {
      "cell_type": "code",
      "execution_count": 27,
      "metadata": {
        "id": "OYc0qhbt1vd-"
      },
      "outputs": [],
      "source": [
        "def train_model(model, criterion, optimizer, train_loader, scheduler, test_loader, epochs=30):\n",
        "\n",
        "    train_losses = []\n",
        "    test_losses = []\n",
        "\n",
        "    for epoch in range(epochs):\n",
        "        # Training\n",
        "        model.train()\n",
        "        running_train_loss = 0.0\n",
        "        print(f'Training Epoch [{epoch}/{epochs-1}]')\n",
        "        for images, labels in train_loader:\n",
        "            # Zero the gradients\n",
        "            optimizer.zero_grad()\n",
        "\n",
        "            images, labels = images.to(device), labels.to(device)\n",
        "            outputs = model(images)\n",
        "            # print(f'Output {epoch}', outputs)\n",
        "            # print(f'Output shape: {outputs.shape}')\n",
        "\n",
        "            # Calculate the loss & Backpropagate\n",
        "            loss = criterion(outputs, labels)\n",
        "            loss.backward()\n",
        "\n",
        "            # Update the weights\n",
        "            optimizer.step()\n",
        "\n",
        "            scheduler.step(loss)        # Update the learning rate using the train loss\n",
        "            running_train_loss += loss.item() * images.size(0) #scales the loss value to represent the total cumulative loss for all the samples in the batch.\n",
        "\n",
        "\n",
        "        epoch_train_loss = running_train_loss / len(train_loader.dataset)\n",
        "        train_losses.append(epoch_train_loss)\n",
        "\n",
        "\n",
        "        model.eval()\n",
        "        running_test_loss = 0.0\n",
        "        # Test Losses\n",
        "        with torch.no_grad():\n",
        "          for images, labels in test_loader:\n",
        "              images, labels = images.to(device), labels.to(device)\n",
        "              outputs = model(images)\n",
        "              loss = criterion(outputs, labels)\n",
        "              running_test_loss += loss.item() * images.size(0)\n",
        "\n",
        "        epoch_test_loss = running_test_loss / len(test_loader.dataset)\n",
        "        test_losses.append(epoch_test_loss)\n",
        "\n",
        "        print(f'Epoch [{epoch}/{epochs-1}], '\n",
        "              f'Training Loss: {epoch_train_loss:.4f}, '\n",
        "              f'Test Loss: {epoch_test_loss:.4f}')\n",
        "\n",
        "    torch.save(model, '/content/drive/My Drive/best_model.pkl')\n",
        "\n",
        "    return model, train_losses, test_losses"
      ]
    },
    {
      "cell_type": "markdown",
      "source": [
        "### Function to evaluate the model\n"
      ],
      "metadata": {
        "id": "f9TVzbiasuGP"
      }
    },
    {
      "cell_type": "code",
      "execution_count": 28,
      "metadata": {
        "id": "VAg4tDtUNu5y"
      },
      "outputs": [],
      "source": [
        "def plot_confusion_matrix(y_true, y_pred, class_names):\n",
        "    cm = confusion_matrix(y_true, y_pred)\n",
        "    plt.figure(figsize=(8, 6))\n",
        "    sns.heatmap(cm, annot=True, fmt='d', cmap='Blues', xticklabels=class_names, yticklabels=class_names)\n",
        "    plt.xlabel('Predicted labels')\n",
        "    plt.ylabel('True labels')\n",
        "    plt.title('Confusion Matrix')\n",
        "    plt.show()\n",
        "\n",
        "\n",
        "def evaluate_model(model, criterion, train_loader, test_loader, class_names):\n",
        "    # Evaluate on training set\n",
        "    model.eval()  # Set the model to evaluation mode\n",
        "    total_correct_train = 0\n",
        "    total_samples_train = 0\n",
        "    y_true_train = []\n",
        "    y_pred_train = []\n",
        "\n",
        "    with torch.no_grad():\n",
        "        for images, labels in train_loader:\n",
        "            images, labels = images.to(device), labels.to(device)\n",
        "            outputs = model(images)\n",
        "            _, predicted = torch.max(outputs, 1)\n",
        "\n",
        "            total_samples_train += labels.size(0)\n",
        "            total_correct_train += (predicted == labels).sum().item()\n",
        "\n",
        "            y_true_train.extend(labels.cpu().numpy())\n",
        "            y_pred_train.extend(predicted.cpu().numpy())\n",
        "\n",
        "    train_accuracy = total_correct_train / total_samples_train\n",
        "    print(f'Train Accuracy: {train_accuracy * 100:.2f}%')\n",
        "\n",
        "    # Evaluate on test set\n",
        "    total_correct_test = 0\n",
        "    total_samples_test = 0\n",
        "    y_true_test = []\n",
        "    y_pred_test = []\n",
        "\n",
        "    with torch.no_grad():\n",
        "        for images, labels in test_loader:\n",
        "            images, labels = images.to(device), labels.to(device)\n",
        "            outputs = model(images)\n",
        "            _, predicted = torch.max(outputs, 1)\n",
        "\n",
        "            total_samples_test += labels.size(0)\n",
        "            total_correct_test += (predicted == labels).sum().item()\n",
        "\n",
        "            y_true_test.extend(labels.cpu().numpy())\n",
        "            y_pred_test.extend(predicted.cpu().numpy())\n",
        "\n",
        "    test_accuracy = total_correct_test / total_samples_test\n",
        "    print(f'Test Accuracy: {test_accuracy * 100:.2f}%')\n",
        "\n",
        "    f1 = f1_score(y_true_test, y_pred_test, average='weighted')\n",
        "    precision = precision_score(y_true_test, y_pred_test, average='weighted')\n",
        "    recall = recall_score(y_true_test, y_pred_test, average='weighted')\n",
        "\n",
        "    print(f'F1 Score: {f1:.4f}')\n",
        "    print(f'Precision: {precision:.4f}')\n",
        "    print(f'Recall: {recall:.4f}')\n",
        "\n",
        "    # Plot confusion matrix for test set\n",
        "    plot_confusion_matrix(y_true_test, y_pred_test, class_names)\n",
        "\n",
        "    torch.save(model, f'/content/drive/My Drive/model_{test_accuracy * 100:.2f}%.pkl')\n",
        "\n",
        "    return train_accuracy, test_accuracy\n",
        "\n"
      ]
    },
    {
      "cell_type": "markdown",
      "source": [
        "### Function to Hypertune the model\n"
      ],
      "metadata": {
        "id": "-h-zrV-5tM3l"
      }
    },
    {
      "cell_type": "code",
      "execution_count": null,
      "metadata": {
        "id": "wCRu9l0kAgBT"
      },
      "outputs": [],
      "source": [
        "# A Function For choosing the best lr, batch size & no. of epochs\n",
        "def parameters_tuning(trial,model):\n",
        "    # Hyperparameters to be optimized\n",
        "    lr = trial.suggest_loguniform('lr', 1e-5, 1e-1) #1e-5, 1e-3\n",
        "    batch_size = trial.suggest_categorical('batch_size', [16, 32, 64, 128]) # , 256, 512\n",
        "    epochs = trial.suggest_int('epochs', 10, 30) # 30, 60\n",
        "\n",
        "    # Transformations for the training and test images.\n",
        "    Default_transform = transforms.Compose([\n",
        "      transforms.Resize((224, 224)),\n",
        "      transforms.ToTensor(),\n",
        "      transforms.Normalize([0.485, 0.456, 0.406], [0.229, 0.224, 0.225]),\n",
        "\n",
        "    ])\n",
        "\n",
        "    # Create Train & Test Datasets\n",
        "    train_dataset = MultiLabelDataset('/content/train/images', train_image_names, train_labels, Default_transform)\n",
        "    test_dataset = MultiLabelDataset('/content/test/images', test_image_names, test_labels, Default_transform)\n",
        "    # Create Train & Test Loaders\n",
        "    train_sampler = seed_batches(train_dataset, 42)\n",
        "    train_loader = torch.utils.data.DataLoader(train_dataset, batch_size=batch_size, sampler=train_sampler)\n",
        "    test_loader = torch.utils.data.DataLoader(test_dataset, batch_size=batch_size, shuffle=True)\n",
        "\n",
        "    # Create and train the model\n",
        "    model, optimizer, criterion, scheduler = get_parameters(lr, mobilenet_model_unfreezed5)\n",
        "    model, train_losses, test_losses = train_model(model, criterion, optimizer, train_loader, scheduler, test_loader, epochs)\n",
        "\n",
        "    # Model's Evaluation\n",
        "    # test_accuracy = evaluate_model(model, criterion, train_loader, test_loader, class_names=[\"First degree\", \"Second degree\", \"Third degree\"])\n",
        "    test_accuracy = evaluate_model(model, criterion, train_loader, test_loader, class_names=[\"First degree & Second degree\", \"Third degree\"])\n",
        "\n",
        "    return test_accuracy"
      ]
    },
    {
      "cell_type": "markdown",
      "source": [
        "### Function to train without using augmentation"
      ],
      "metadata": {
        "id": "SgaRE9zKt20Y"
      }
    },
    {
      "cell_type": "code",
      "execution_count": null,
      "metadata": {
        "id": "kJWr73W2HQSK"
      },
      "outputs": [],
      "source": [
        "# Function to calculate the train & test losses without using augmentation\n",
        "def Train_without_augmentation(model, lr, batch_size, epochs):\n",
        "\n",
        "  # Transformations for the training and test images.\n",
        "  Default_transform = transforms.Compose([\n",
        "    transforms.Resize((224, 224)),\n",
        "    transforms.ToTensor(),\n",
        "    transforms.Normalize([0.485, 0.456, 0.406], [0.229, 0.224, 0.225]),\n",
        "\n",
        "  ])\n",
        "\n",
        "\n",
        "  train_dataset = MultiLabelDataset('/content/train/images', train_image_names, train_labels, Default_transform)\n",
        "  test_dataset = MultiLabelDataset('/content/test/images', test_image_names, test_labels, Default_transform)\n",
        "\n",
        "\n",
        "  # Create Train & Test Loaders\n",
        "  train_sampler = seed_batches(train_dataset, 42)\n",
        "  train_loader = torch.utils.data.DataLoader(train_dataset, batch_size=batch_size, sampler=train_sampler) #128\n",
        "  test_loader = torch.utils.data.DataLoader(test_dataset, batch_size=batch_size, shuffle=True) #128\n",
        "\n",
        "  model, optimizer, criterion, scheduler = get_parameters(lr, model) #0.001\n",
        "  model, train_losses, test_losses = train_model(model, criterion, optimizer, train_loader, scheduler, test_loader, epochs=epochs)  #30\n",
        "\n",
        "\n",
        "  # Evaluate the model\n",
        "  # evaluate_model(model, criterion, train_loader, test_loader, class_names=[\"First degree\", \"Second degree\", \"Third degree\"])\n",
        "  evaluate_model(model, criterion, train_loader, test_loader, class_names=[\"First degree & Second degree\", \"Third degree\"])\n",
        "\n",
        "  # Plotting the losses\n",
        "  plt.figure(figsize=(8, 6))\n",
        "  plt.plot(range(1, len(train_losses)+1), train_losses, label='Training Loss')\n",
        "  plt.plot(range(1, len(test_losses)+1), test_losses, label='Test Loss')\n",
        "  plt.xlabel('Epochs')\n",
        "  plt.ylabel('Loss')\n",
        "  plt.title('Training and Test Loss')\n",
        "  plt.legend()\n",
        "  plt.show()"
      ]
    },
    {
      "cell_type": "markdown",
      "source": [
        "### Function to train using augmentation"
      ],
      "metadata": {
        "id": "IsphDnvZYXdV"
      }
    },
    {
      "cell_type": "code",
      "source": [
        "def Train_using_augmentation(model, lr, batch_size, epochs):\n",
        "\n",
        "    # Transform the training and test images (Normalization, resizing, conversion to tensor)\n",
        "    original_transform = transforms.Compose([\n",
        "      transforms.Resize((224, 224)),\n",
        "      transforms.ToTensor(),\n",
        "      transforms.Normalize([0.485, 0.456, 0.406], [0.229, 0.224, 0.225]),\n",
        "\n",
        "    ])\n",
        "\n",
        "\n",
        "    # Define your augmentation transforms\n",
        "\n",
        "    horizontal_flipping_transform = transforms.Compose([\n",
        "                                              transforms.Resize((224, 224)),\n",
        "                                              transforms.ToTensor(),\n",
        "                                              transforms.Normalize([0.485, 0.456, 0.406], [0.229, 0.224, 0.225]),\n",
        "                                              transforms.RandomHorizontalFlip(),     # Randomly flip the input horizontally\n",
        "                                              ])\n",
        "\n",
        "\n",
        "\n",
        "    vertical_flipping_transform = transforms.Compose([\n",
        "                                              transforms.Resize((224, 224)),\n",
        "                                              transforms.ToTensor(),\n",
        "                                              transforms.Normalize([0.485, 0.456, 0.406], [0.229, 0.224, 0.225]),\n",
        "                                              transforms.RandomVerticalFlip(),       # Randomly flip the input vertically\n",
        "                                              ])\n",
        "\n",
        "    rotational_transform = transforms.Compose([\n",
        "                                              transforms.Resize((224, 224)),\n",
        "                                              transforms.ToTensor(),\n",
        "                                              transforms.Normalize([0.485, 0.456, 0.406], [0.229, 0.224, 0.225]),\n",
        "                                              transforms.RandomRotation(degrees=45),\n",
        "                                              ])\n",
        "\n",
        "    shifting_transform = transforms.Compose([\n",
        "                                              transforms.Resize((224, 224)),\n",
        "                                              transforms.ToTensor(),\n",
        "                                              transforms.Normalize([0.485, 0.456, 0.406], [0.229, 0.224, 0.225]),\n",
        "                                              transforms.RandomAffine(degrees=0, translate=(0.1, 0.1)),  # Random affine transformation with translation\n",
        "                                              ])\n",
        "\n",
        "\n",
        "    original_dataset = MultiLabelDataset('/content/train/images', train_image_names, train_labels, original_transform)\n",
        "    augmented_dataset_horizontal = MultiLabelDataset('/content/train/images', train_image_names, train_labels, horizontal_flipping_transform)\n",
        "    augmented_dataset_vertical = MultiLabelDataset('/content/train/images', train_image_names, train_labels, vertical_flipping_transform)\n",
        "    augmented_dataset_rotational = MultiLabelDataset('/content/train/images', train_image_names, train_labels, rotational_transform)\n",
        "    augmented_dataset_shifted = MultiLabelDataset('/content/train/images', train_image_names, train_labels, shifting_transform)\n",
        "    test_dataset = MultiLabelDataset('/content/test/images', test_image_names, test_labels, shifting_transform)\n",
        "\n",
        "\n",
        "    combined_dataset = ConcatDataset([original_dataset, augmented_dataset_horizontal, augmented_dataset_vertical, augmented_dataset_rotational, augmented_dataset_shifted])\n",
        "    # Create Train & Test Loaders\n",
        "    train_sampler = seed_batches(combined_dataset, 42)\n",
        "    combined_train_loader = torch.utils.data.DataLoader(combined_dataset, batch_size=batch_size, sampler=train_sampler)\n",
        "    test_loader = torch.utils.data.DataLoader(test_dataset, batch_size=batch_size, shuffle=True)\n",
        "\n",
        "    original_dataset_size = len(original_dataset)\n",
        "    print(f\"Original Dataset Size: {original_dataset_size} samples\")\n",
        "    augmented_dataset_size = len(augmented_dataset_horizontal) + len(augmented_dataset_vertical) + len(augmented_dataset_rotational) + len(augmented_dataset_shifted)\n",
        "    print(f\"Augmnented Dataset Size: {augmented_dataset_size} samples\")\n",
        "    combined_dataset_size = len(combined_dataset)\n",
        "    print(f\"Combined Dataset Size: {combined_dataset_size} samples\")\n",
        "\n",
        "    # Train your model\n",
        "    model, optimizer, criterion, scheduler = get_parameters(lr, model)\n",
        "    model, train_losses, test_losses = train_model(model, criterion, optimizer, combined_train_loader, scheduler, test_loader, epochs=epochs)\n",
        "    # test_accuracy = evaluate_model(model, criterion, combined_train_loader, test_loader, class_names=[\"First degree\", \"Second degree\", \"Third degree\"])\n",
        "    test_accuracy = evaluate_model(model, criterion, combined_train_loader, test_loader, class_names=[\"First degree & Second degree\", \"Third degree\"])\n",
        "\n",
        "    # Plotting the losses\n",
        "    plt.figure(figsize=(8, 6))\n",
        "    plt.plot(range(1, len(train_losses)+1), train_losses, label='Training Loss')\n",
        "    plt.plot(range(1, len(test_losses)+1), test_losses, label='Test Loss')\n",
        "    plt.xlabel('Epochs')\n",
        "    plt.ylabel('Loss')\n",
        "    plt.title('Training and Validation Loss')\n",
        "    plt.legend()\n",
        "    plt.show()"
      ],
      "metadata": {
        "id": "OP0bm3_aNjuP"
      },
      "execution_count": null,
      "outputs": []
    },
    {
      "cell_type": "markdown",
      "source": [
        "### Balancing Data in Binary Classification Approach"
      ],
      "metadata": {
        "id": "v6fnQhuCEnG2"
      }
    },
    {
      "cell_type": "code",
      "source": [
        "def Train_using_balancing_augmentation(model, lr, batch_size, epochs):\n",
        "\n",
        "    # Transform the training and test images (Normalization, resizing, conversion to tensor)\n",
        "    original_transform = transforms.Compose([\n",
        "        transforms.Resize((224, 224)),\n",
        "        transforms.ToTensor(),\n",
        "        transforms.Normalize([0.485, 0.456, 0.406], [0.229, 0.224, 0.225]),\n",
        "    ])\n",
        "\n",
        "    # Define your augmentation transforms\n",
        "    augmentation_transforms = [\n",
        "        transforms.RandomHorizontalFlip(),  # Randomly flip the input horizontally\n",
        "        transforms.RandomVerticalFlip(),    # Randomly flip the input vertically\n",
        "        transforms.RandomRotation(degrees=45),\n",
        "        transforms.RandomAffine(degrees=0, translate=(0.1, 0.1)),  # Random affine transformation with translation\n",
        "    ]\n",
        "\n",
        "    # Step 1: Calculate the number of samples needed to balance the classes\n",
        "    class_counts = {0: 0, 1: 0}\n",
        "    for label in train_labels:\n",
        "        class_counts[label] += 1\n",
        "\n",
        "    majority_class_size = max(class_counts.values())\n",
        "    print (\"majority_class_size \" , majority_class_size)\n",
        "    minority_class_size = min(class_counts.values())\n",
        "    print (\"minority_class_size \" , minority_class_size)\n",
        "    samples_needed = majority_class_size - minority_class_size\n",
        "\n",
        "    # Step 2: Create a balanced dataset\n",
        "    original_dataset = MultiLabelDataset('/content/train/images', train_image_names, train_labels, original_transform)\n",
        "    test_dataset = MultiLabelDataset('/content/test/images', test_image_names, test_labels, original_transform)\n",
        "\n",
        "    minority_class_indices = [i for i, label in enumerate(train_labels) if label == 1]\n",
        "\n",
        "    # Randomly choose samples from the minority class to augment until we reach the desired size\n",
        "    augmented_samples = []\n",
        "    while len(augmented_samples) < samples_needed:\n",
        "        sample_idx = random.choice(minority_class_indices)\n",
        "        sample_image_name = train_image_names[sample_idx]\n",
        "        sample_label = train_labels[sample_idx]\n",
        "\n",
        "        # Apply a random augmentation to the selected sample\n",
        "        augmentation_transform = transforms.Compose([\n",
        "            transforms.Resize((224, 224)),\n",
        "            transforms.ToTensor(),\n",
        "            transforms.Normalize([0.485, 0.456, 0.406], [0.229, 0.224, 0.225]),\n",
        "            random.choice(augmentation_transforms),\n",
        "        ])\n",
        "        augmented_sample = MultiLabelDataset('/content/train/images', [sample_image_name], [sample_label], augmentation_transform)\n",
        "        augmented_samples.append(augmented_sample)\n",
        "\n",
        "    # Combine the original dataset with the augmented samples\n",
        "    balanced_dataset = ConcatDataset([original_dataset] + augmented_samples)\n",
        "\n",
        "    # Create Train & Test Loaders\n",
        "    train_sampler = seed_batches(balanced_dataset, 42)\n",
        "    combined_train_loader = torch.utils.data.DataLoader(balanced_dataset, batch_size=batch_size, sampler=train_sampler)\n",
        "    test_loader = torch.utils.data.DataLoader(test_dataset, batch_size=batch_size, shuffle=True)\n",
        "\n",
        "    original_dataset_size = len(original_dataset)\n",
        "    print(f\"Original Dataset Size: {original_dataset_size} samples\")\n",
        "    augmented_dataset_size = len(augmented_samples)\n",
        "    print(f\"Augmnented Dataset Size: {augmented_dataset_size} samples\")\n",
        "    combined_dataset_size = len(balanced_dataset)\n",
        "    print(f\"Combined Dataset Size: {combined_dataset_size} samples\")\n",
        "\n",
        "    # Train your model\n",
        "    model, optimizer, criterion, scheduler = get_parameters(lr, model)\n",
        "    model, train_losses, test_losses = train_model(model, criterion, optimizer, combined_train_loader, scheduler, test_loader, epochs=epochs)\n",
        "    # test_accuracy = evaluate_model(model, criterion, combined_train_loader, test_loader, class_names=[\"First degree\", \"Second degree\", \"Third degree\"])\n",
        "    test_accuracy = evaluate_model(model, criterion, combined_train_loader, test_loader, class_names=[\"First degree & Second degree\", \"Third degree\"])\n",
        "\n",
        "    # Plotting the losses\n",
        "    plt.figure(figsize=(8, 6))\n",
        "    plt.plot(range(1, len(train_losses)+1), train_losses, label='Training Loss')\n",
        "    plt.plot(range(1, len(test_losses)+1), test_losses, label='Test Loss')\n",
        "    plt.xlabel('Epochs')\n",
        "    plt.ylabel('Loss')\n",
        "    plt.title('Training and Validation Loss')\n",
        "    plt.legend()\n",
        "    plt.show()"
      ],
      "metadata": {
        "id": "H0gHfe1lEmaq"
      },
      "execution_count": 42,
      "outputs": []
    },
    {
      "cell_type": "markdown",
      "source": [
        "### A Function For choosing the best lr, batch size & no. of epochs"
      ],
      "metadata": {
        "id": "nOxH45SeX-Dc"
      }
    },
    {
      "cell_type": "code",
      "source": [
        "def parameters_tuning_augmented_data(trial,model):\n",
        "    # Hyperparameters to be optimized\n",
        "    lr = trial.suggest_loguniform('lr', 1e-5, 1e-1) #1e-5, 1e-3\n",
        "    batch_size = trial.suggest_categorical('batch_size', [16, 32, 64, 128]) # , 256, 512\n",
        "    epochs = trial.suggest_int('epochs', 10, 30) # 30, 60\n",
        "\n",
        "    # Get Augmented Train & Test Loaders\n",
        "    train_loader, test_loader = get_augmented_data(model, lr, batch_size, epochs)\n",
        "\n",
        "    # Create and train the model\n",
        "    model, optimizer, criterion, scheduler = get_parameters(lr, model)\n",
        "    model, train_losses, test_losses = train_model(model, criterion, optimizer, train_loader, scheduler, test_loader, epochs)\n",
        "\n",
        "    # Model's Evaluation\n",
        "    test_acc = evaluate_model(model, criterion, train_loader, test_loader, class_names=[\"First degree\", \"Second degree\", \"Third degree\"])\n",
        "\n",
        "    return test_acc"
      ],
      "metadata": {
        "id": "g8n_UEVZnxxn"
      },
      "execution_count": null,
      "outputs": []
    },
    {
      "cell_type": "code",
      "source": [
        "# # Study on Augmented Data (4 Augmentations)\n",
        "# study = optuna.create_study(direction='maximize')\n",
        "# study.optimize(parameters_tuning_augmented_data, n_trials=50)\n",
        "\n",
        "# if len(study.trials) > 0:\n",
        "#   print('Number of finished trials: ', len(study.trials))\n",
        "#   print('Best trial:')\n",
        "#   trial = study.best_trial\n",
        "#   print('Value: ', trial.value)\n",
        "#   print('Params: ')\n",
        "#   for key, value in trial.params.items():\n",
        "#       print(f'{key}: {value}')\n",
        "# else:\n",
        "#     print('No trials have been completed yet.')"
      ],
      "metadata": {
        "id": "Jv4UdZtCpuqS"
      },
      "execution_count": null,
      "outputs": []
    },
    {
      "cell_type": "markdown",
      "source": [
        "# Training"
      ],
      "metadata": {
        "id": "dx1BkM5Qurei"
      }
    },
    {
      "cell_type": "markdown",
      "source": [
        "### ResNet50 Combinations"
      ],
      "metadata": {
        "id": "yY_gtSs2AaIG"
      }
    },
    {
      "cell_type": "code",
      "source": [
        "Train_without_augmentation(resnet50_pretrained, lr=0.001, batch_size=128, epochs=30)"
      ],
      "metadata": {
        "id": "1kVOHSbSDcED"
      },
      "execution_count": null,
      "outputs": []
    },
    {
      "cell_type": "code",
      "source": [
        "Train_using_balancing_augmentation(resnet50_pretrained,lr=0.09200775000637837, batch_size=16, epochs=31)"
      ],
      "metadata": {
        "id": "JZERRXADuuDl",
        "outputId": "d792c814-eb4b-4b35-dd04-d7ee141a5351",
        "colab": {
          "base_uri": "https://localhost:8080/",
          "height": 1000
        }
      },
      "execution_count": 44,
      "outputs": [
        {
          "output_type": "stream",
          "name": "stdout",
          "text": [
            "majority_class_size  336\n",
            "minority_class_size  132\n",
            "Original Dataset Size: 468 samples\n",
            "Augmnented Dataset Size: 204 samples\n",
            "Combined Dataset Size: 672 samples\n",
            "Training Epoch [0/30]\n",
            "Epoch [0/30], Training Loss: 2.1728, Test Loss: 1.3035\n",
            "Training Epoch [1/30]\n",
            "Epoch [1/30], Training Loss: 1.0466, Test Loss: 1.3086\n",
            "Training Epoch [2/30]\n",
            "Epoch [2/30], Training Loss: 1.0132, Test Loss: 1.3116\n",
            "Training Epoch [3/30]\n",
            "Epoch [3/30], Training Loss: 1.0206, Test Loss: 1.3101\n",
            "Training Epoch [4/30]\n",
            "Epoch [4/30], Training Loss: 1.0007, Test Loss: 1.4042\n",
            "Training Epoch [5/30]\n",
            "Epoch [5/30], Training Loss: 0.9964, Test Loss: 1.3160\n",
            "Training Epoch [6/30]\n",
            "Epoch [6/30], Training Loss: 1.0007, Test Loss: 1.2546\n",
            "Training Epoch [7/30]\n",
            "Epoch [7/30], Training Loss: 1.0275, Test Loss: 1.3110\n",
            "Training Epoch [8/30]\n",
            "Epoch [8/30], Training Loss: 1.0559, Test Loss: 1.3352\n",
            "Training Epoch [9/30]\n",
            "Epoch [9/30], Training Loss: 1.0306, Test Loss: 1.3334\n",
            "Training Epoch [10/30]\n",
            "Epoch [10/30], Training Loss: 1.0310, Test Loss: 1.3149\n",
            "Training Epoch [11/30]\n",
            "Epoch [11/30], Training Loss: 1.0285, Test Loss: 1.3238\n",
            "Training Epoch [12/30]\n",
            "Epoch [12/30], Training Loss: 1.0038, Test Loss: 1.3662\n",
            "Training Epoch [13/30]\n",
            "Epoch [13/30], Training Loss: 1.0677, Test Loss: 1.2568\n",
            "Training Epoch [14/30]\n",
            "Epoch [14/30], Training Loss: 0.9754, Test Loss: 1.2576\n",
            "Training Epoch [15/30]\n",
            "Epoch [15/30], Training Loss: 1.0241, Test Loss: 1.3076\n",
            "Training Epoch [16/30]\n",
            "Epoch [16/30], Training Loss: 1.0738, Test Loss: 1.3795\n",
            "Training Epoch [17/30]\n",
            "Epoch [17/30], Training Loss: 1.0183, Test Loss: 1.3738\n",
            "Training Epoch [18/30]\n",
            "Epoch [18/30], Training Loss: 1.0242, Test Loss: 1.3346\n",
            "Training Epoch [19/30]\n",
            "Epoch [19/30], Training Loss: 1.0236, Test Loss: 1.3231\n",
            "Training Epoch [20/30]\n",
            "Epoch [20/30], Training Loss: 1.0419, Test Loss: 1.3021\n",
            "Training Epoch [21/30]\n",
            "Epoch [21/30], Training Loss: 1.0478, Test Loss: 1.2805\n",
            "Training Epoch [22/30]\n",
            "Epoch [22/30], Training Loss: 1.0940, Test Loss: 1.3293\n",
            "Training Epoch [23/30]\n",
            "Epoch [23/30], Training Loss: 1.0142, Test Loss: 1.2588\n",
            "Training Epoch [24/30]\n",
            "Epoch [24/30], Training Loss: 1.0187, Test Loss: 1.2775\n",
            "Training Epoch [25/30]\n",
            "Epoch [25/30], Training Loss: 0.9942, Test Loss: 1.2738\n",
            "Training Epoch [26/30]\n",
            "Epoch [26/30], Training Loss: 1.0274, Test Loss: 1.4013\n",
            "Training Epoch [27/30]\n",
            "Epoch [27/30], Training Loss: 1.0035, Test Loss: 1.2773\n",
            "Training Epoch [28/30]\n",
            "Epoch [28/30], Training Loss: 1.0988, Test Loss: 1.2867\n",
            "Training Epoch [29/30]\n",
            "Epoch [29/30], Training Loss: 1.0054, Test Loss: 1.2926\n",
            "Training Epoch [30/30]\n",
            "Epoch [30/30], Training Loss: 1.0126, Test Loss: 1.3084\n",
            "Train Accuracy: 65.62%\n",
            "Test Accuracy: 59.32%\n",
            "F1 Score: 0.6092\n",
            "Precision: 0.6294\n",
            "Recall: 0.5932\n"
          ]
        },
        {
          "output_type": "display_data",
          "data": {
            "text/plain": [
              "<Figure size 800x600 with 2 Axes>"
            ],
            "image/png": "[encoded data removed]"
          },
          "metadata": {}
        },
        {
          "output_type": "display_data",
          "data": {
            "text/plain": [
              "<Figure size 800x600 with 1 Axes>"
            ],
            "image/png": "[encoded data removed]"
          },
          "metadata": {}
        }
      ]
    },
    {
      "cell_type": "code",
      "source": [
        "Train_without_augmentation(resnet50_model_unfreezed4, lr=0.09200775000637837, batch_size=16, epochs=31)"
      ],
      "metadata": {
        "id": "35NnkGUVDFH-"
      },
      "execution_count": null,
      "outputs": []
    },
    {
      "cell_type": "code",
      "execution_count": null,
      "metadata": {
        "id": "Y-hJOnmd7A1V"
      },
      "outputs": [],
      "source": [
        "Train_without_augmentation(resnet50_dense, lr=0.09200775000637837, batch_size=16, epochs=31)"
      ]
    },
    {
      "cell_type": "code",
      "source": [
        "Train_without_augmentation(ModifiedResNet50(num_classes=3), lr=0.001, batch_size=128, epochs=30)"
      ],
      "metadata": {
        "id": "SnFkylu_E60F"
      },
      "execution_count": null,
      "outputs": []
    },
    {
      "cell_type": "code",
      "source": [
        "Train_using_augmentation(resnet50_pretrained, lr=0.001, batch_size=128, epochs=30)"
      ],
      "metadata": {
        "id": "mP7Uft0HZQA5"
      },
      "execution_count": null,
      "outputs": []
    },
    {
      "cell_type": "code",
      "source": [
        "Train_using_augmentation(resnet50_pretrained, lr=0.09200775000637837, batch_size=16, epochs=31)"
      ],
      "metadata": {
        "id": "PgVlGFY43mfd"
      },
      "execution_count": null,
      "outputs": []
    },
    {
      "cell_type": "code",
      "source": [
        "Train_using_augmentation(resnet50_model_unfreezed4, lr=0.09200775000637837, batch_size=16, epochs=31)"
      ],
      "metadata": {
        "id": "PlnLhPEfZQA5"
      },
      "execution_count": null,
      "outputs": []
    },
    {
      "cell_type": "code",
      "execution_count": null,
      "metadata": {
        "id": "IIYnqwgdZQA5"
      },
      "outputs": [],
      "source": [
        "Train_using_augmentation(resnet50_dense, lr=0.09200775000637837, batch_size=16, epochs=31)"
      ]
    },
    {
      "cell_type": "code",
      "source": [
        "Train_using_augmentation(ModifiedResNet50(num_classes=3), lr=0.001, batch_size=128, epochs=30)"
      ],
      "metadata": {
        "id": "qOH0etwNZQA5"
      },
      "execution_count": null,
      "outputs": []
    },
    {
      "cell_type": "markdown",
      "source": [
        "### MobileNet Combinations"
      ],
      "metadata": {
        "id": "-GiMvYkUDAnY"
      }
    },
    {
      "cell_type": "code",
      "execution_count": null,
      "metadata": {
        "id": "qFmY5q32ox5o"
      },
      "outputs": [],
      "source": [
        "Train_without_augmentation(mobilenet_v2_pretrained, lr=1.9181231072698998e-05, batch_size=32, epochs=24)"
      ]
    },
    {
      "cell_type": "code",
      "execution_count": null,
      "metadata": {
        "id": "ftEsdKLkmSnt"
      },
      "outputs": [],
      "source": [
        "Train_without_augmentation(mobilenet_model_unfreezed5, lr=1.9181231072698998e-05, batch_size=32, epochs=24)"
      ]
    },
    {
      "cell_type": "code",
      "execution_count": null,
      "metadata": {
        "id": "N3AWMfP-pfE3"
      },
      "outputs": [],
      "source": [
        "Train_without_augmentation(mobilenet_v2_pretrained_dropout, lr=1.9181231072698998e-05, batch_size=32, epochs=24)"
      ]
    },
    {
      "cell_type": "code",
      "source": [
        "Train_without_augmentation(mobilenet_dense, lr=1.9181231072698998e-05, batch_size=32, epochs=24)"
      ],
      "metadata": {
        "id": "Vl8haZOiWCEZ"
      },
      "execution_count": null,
      "outputs": []
    },
    {
      "cell_type": "code",
      "source": [
        "Train_without_augmentation(ModifiedMobileNet(num_classes=3), lr=1.9181231072698998e-05, batch_size=32, epochs=24)"
      ],
      "metadata": {
        "id": "FXjggR5GWvtW"
      },
      "execution_count": null,
      "outputs": []
    },
    {
      "cell_type": "code",
      "execution_count": null,
      "metadata": {
        "id": "c-eYIpW6ZYXb"
      },
      "outputs": [],
      "source": [
        "Train_using_augmentation(mobilenet_v2_pretrained, lr=1.9181231072698998e-05, batch_size=32, epochs=24)"
      ]
    },
    {
      "cell_type": "code",
      "execution_count": null,
      "metadata": {
        "id": "v3n7IgB_ZYXh"
      },
      "outputs": [],
      "source": [
        "Train_using_augmentation(mobilenet_model_unfreezed5, lr=1.9181231072698998e-05, batch_size=32, epochs=24)"
      ]
    },
    {
      "cell_type": "code",
      "execution_count": null,
      "metadata": {
        "id": "c-UOO-7_ZYXh"
      },
      "outputs": [],
      "source": [
        "Train_using_augmentation(mobilenet_v2_pretrained_dropout, lr=1.9181231072698998e-05, batch_size=32, epochs=24)"
      ]
    },
    {
      "cell_type": "code",
      "source": [
        "Train_using_augmentation(mobilenet_dense, lr=1.9181231072698998e-05, batch_size=32, epochs=24)"
      ],
      "metadata": {
        "id": "Fs4TK4OtZYXh"
      },
      "execution_count": null,
      "outputs": []
    },
    {
      "cell_type": "code",
      "source": [
        "Train_using_augmentation(ModifiedMobileNet(num_classes=3), lr=1.9181231072698998e-05, batch_size=32, epochs=24)"
      ],
      "metadata": {
        "id": "vlmRU9okZYXh"
      },
      "execution_count": null,
      "outputs": []
    },
    {
      "cell_type": "markdown",
      "source": [
        "### DenseNet Combinations"
      ],
      "metadata": {
        "id": "VkeN3T72Ww6h"
      }
    },
    {
      "cell_type": "code",
      "execution_count": null,
      "metadata": {
        "id": "Fa25k2zZtu0C"
      },
      "outputs": [],
      "source": [
        "Train_without_augmentation(densenet121_pretrained, lr=0.001, batch_size=16, epochs=30)"
      ]
    },
    {
      "cell_type": "code",
      "source": [
        "Train_without_augmentation(densenet121_model_unfreezed5, lr=0.001, batch_size=16, epochs=30)"
      ],
      "metadata": {
        "id": "vC4XK__EwXbx"
      },
      "execution_count": null,
      "outputs": []
    },
    {
      "cell_type": "code",
      "source": [
        "Train_without_augmentation(densenet_dense, lr=0.001, batch_size=16, epochs=30)"
      ],
      "metadata": {
        "id": "s2r6vmt7wD0R"
      },
      "execution_count": null,
      "outputs": []
    },
    {
      "cell_type": "code",
      "source": [
        "Train_without_augmentation(ModifiedDenseNet(num_classes= 3), lr=0.001, batch_size=16, epochs=30)"
      ],
      "metadata": {
        "id": "PhDWFjogwACc"
      },
      "execution_count": null,
      "outputs": []
    },
    {
      "cell_type": "code",
      "execution_count": null,
      "metadata": {
        "id": "YxhoZHZoZfCS"
      },
      "outputs": [],
      "source": [
        "Train_using_augmentation(densenet121_pretrained, lr=0.001, batch_size=16, epochs=30)"
      ]
    },
    {
      "cell_type": "code",
      "source": [
        "Train_using_augmentation(densenet121_model_unfreezed5, lr=0.001, batch_size=16, epochs=30)"
      ],
      "metadata": {
        "id": "bJscwJu8ZfCY"
      },
      "execution_count": null,
      "outputs": []
    },
    {
      "cell_type": "code",
      "source": [
        "Train_using_augmentation(densenet_dense, lr=0.001, batch_size=16, epochs=30)"
      ],
      "metadata": {
        "id": "8cvs_d8kZfCY"
      },
      "execution_count": null,
      "outputs": []
    },
    {
      "cell_type": "code",
      "source": [
        "Train_using_augmentation(ModifiedDenseNet(num_classes= 3), lr=0.001, batch_size=16, epochs=30)"
      ],
      "metadata": {
        "id": "y1PhZm7IZfCY"
      },
      "execution_count": null,
      "outputs": []
    }
  ],
  "metadata": {
    "colab": {
      "provenance": [],
      "gpuType": "T4",
      "include_colab_link": true
    },
    "kernelspec": {
      "display_name": "Python 3",
      "name": "python3"
    },
    "language_info": {
      "name": "python"
    },
    "accelerator": "GPU"
  },
  "nbformat": 4,
  "nbformat_minor": 0
}
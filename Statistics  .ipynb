{
 "cells": [
  {
   "cell_type": "code",
   "execution_count": 72,
   "id": "d2b48b32",
   "metadata": {},
   "outputs": [],
   "source": [
    "import math\n",
    "import statistics\n",
    "import random\n",
    "import numpy as np\n",
    "import scipy.stats as stats\n",
    "from matplotlib import pyplot as plt\n",
    "from scipy.stats import t\n",
    "import scipy.stats as st"
   ]
  },
  {
   "cell_type": "markdown",
   "id": "fbd9b680",
   "metadata": {},
   "source": [
    "#  Question 1"
   ]
  },
  {
   "cell_type": "code",
   "execution_count": 4,
   "id": "f6a50644",
   "metadata": {},
   "outputs": [
    {
     "name": "stdout",
     "output_type": "stream",
     "text": [
      "red Automatic transmission with AC\n",
      "blue Automatic transmission with AC\n",
      "black Automatic transmission with AC\n",
      "white Automatic transmission with AC\n",
      "red Automatic transmission without AC\n",
      "blue Automatic transmission without AC\n",
      "black Automatic transmission without AC\n",
      "white Automatic transmission without AC\n",
      "red Standard transmission with AC\n",
      "blue Standard transmission with AC\n",
      "black Standard transmission with AC\n",
      "white Standard transmission with AC\n",
      "red Standard transmission without AC\n",
      "blue Standard transmission without AC\n",
      "black Standard transmission without AC\n",
      "white Standard transmission without AC\n"
     ]
    }
   ],
   "source": [
    "transmission = [\"Automatic transmission\",\"Standard transmission\"]\n",
    "AC = [\"with AC\",\"without AC\"]\n",
    "colors = [\"red\",\"blue\",\"black\",\"white\"]\n",
    "\n",
    "\n",
    "for t in transmission:\n",
    "    for ac in AC:\n",
    "        for c in colors:\n",
    "            print(c,t,ac)"
   ]
  },
  {
   "cell_type": "markdown",
   "id": "16a89a6f",
   "metadata": {},
   "source": [
    "# Question 2"
   ]
  },
  {
   "cell_type": "code",
   "execution_count": 6,
   "id": "e51f05aa",
   "metadata": {},
   "outputs": [
    {
     "name": "stdout",
     "output_type": "stream",
     "text": [
      "Probability that exactly 4 of the chosen samples have the pollutant is 0.0700029849121807\n"
     ]
    }
   ],
   "source": [
    " p = lambda x: math.comb(18, x) * math.pow(0.1,x) * math.pow((0.9),(18-x))\n",
    "print(\"Probability that exactly 4 of the chosen samples have the pollutant is\" , p(4))"
   ]
  },
  {
   "cell_type": "code",
   "execution_count": 7,
   "id": "edd9fffc",
   "metadata": {},
   "outputs": [
    {
     "name": "stdout",
     "output_type": "stream",
     "text": [
      "Probability that at least 3 of the chosen samples have the pollutant is 0.2662040052146706\n"
     ]
    }
   ],
   "source": [
    "probsum = 0\n",
    "for i in range(3):\n",
    "    probsum += p(i)\n",
    "print(\"Probability that at least 3 of the chosen samples have the pollutant is\" , 1-probsum)"
   ]
  },
  {
   "cell_type": "code",
   "execution_count": 8,
   "id": "391b13e4",
   "metadata": {},
   "outputs": [
    {
     "name": "stdout",
     "output_type": "stream",
     "text": [
      "Expected number of samples having the pollutant is 1.8000000000000005\n"
     ]
    }
   ],
   "source": [
    "mean = 0\n",
    "for i in range(19):\n",
    "    mean += i * p(i)\n",
    "print(\"Expected number of samples having the pollutant is\", mean)"
   ]
  },
  {
   "cell_type": "code",
   "execution_count": 15,
   "id": "dfaf36d6",
   "metadata": {},
   "outputs": [
    {
     "data": {
      "image/png": "[encoded data removed]",
      "text/plain": [
       "<Figure size 432x288 with 1 Axes>"
      ]
     },
     "metadata": {
      "needs_background": "light"
     },
     "output_type": "display_data"
    }
   ],
   "source": [
    "y = []\n",
    "for i in range(19):\n",
    "    y.append(p(i))\n",
    "x = np.linspace(0,18,19)\n",
    "\n",
    "plt.plot(x,y)\n",
    "plt.title(\"PMF\")\n",
    "plt.xlabel(\"x\")\n",
    "plt.ylabel(\"f(x)\");"
   ]
  },
  {
   "cell_type": "code",
   "execution_count": 22,
   "id": "13959db2",
   "metadata": {},
   "outputs": [
    {
     "data": {
      "image/png": "[encoded data removed]",
      "text/plain": [
       "<Figure size 432x288 with 1 Axes>"
      ]
     },
     "metadata": {
      "needs_background": "light"
     },
     "output_type": "display_data"
    }
   ],
   "source": [
    "cmd=[]\n",
    "sum_=0\n",
    "for i in range(19):\n",
    "    sum_ += y[i]\n",
    "    cmd.append(sum_)\n",
    "\n",
    "plt.plot(x,cmd)\n",
    "plt.title(\"CDF\")\n",
    "plt.xlabel(\"x\")\n",
    "plt.ylabel(\"F(x)\");"
   ]
  },
  {
   "cell_type": "markdown",
   "id": "de6280c5",
   "metadata": {},
   "source": [
    "\n",
    "# Question 3\n"
   ]
  },
  {
   "cell_type": "code",
   "execution_count": 35,
   "id": "9c502e66",
   "metadata": {},
   "outputs": [
    {
     "name": "stdout",
     "output_type": "stream",
     "text": [
      "11\n",
      "11\n",
      "10\n",
      "5\n",
      "11\n"
     ]
    }
   ],
   "source": [
    "Rv_range=[]\n",
    "for i in range (3,13):\n",
    "    Rv_range.append(i)\n",
    "ran=[]\n",
    "for i in range (5):\n",
    "    ran.append(random.choice(Rv_range))\n",
    "    print(ran[i])"
   ]
  },
  {
   "cell_type": "code",
   "execution_count": 42,
   "id": "058512fb",
   "metadata": {},
   "outputs": [
    {
     "data": {
      "image/png": "[encoded data removed]",
      "text/plain": [
       "<Figure size 720x360 with 1 Axes>"
      ]
     },
     "metadata": {
      "needs_background": "light"
     },
     "output_type": "display_data"
    }
   ],
   "source": [
    "fig, axis = plt.subplots(figsize =(10, 5))\n",
    "axis.hist(ran);\n",
    "plt.xlabel(\"Random Variable\")\n",
    "plt.ylabel(\"Frequency\");"
   ]
  },
  {
   "cell_type": "markdown",
   "id": "733b0277",
   "metadata": {},
   "source": [
    "### It is not a uniform distribution.\n",
    "### X-axis represents the values of the random variable & Y-axis represents the frequency of this value."
   ]
  },
  {
   "cell_type": "code",
   "execution_count": 43,
   "id": "95025a2b",
   "metadata": {},
   "outputs": [
    {
     "data": {
      "image/png": "[encoded data removed]",
      "text/plain": [
       "<Figure size 720x360 with 1 Axes>"
      ]
     },
     "metadata": {
      "needs_background": "light"
     },
     "output_type": "display_data"
    }
   ],
   "source": [
    "for i in range (20):\n",
    "    ran.append(random.choice(Rv_range))\n",
    "fig, axis = plt.subplots(figsize =(10, 5))\n",
    "axis.hist(ran);\n",
    "plt.xlabel(\"Random Variable\")\n",
    "plt.ylabel(\"Frequency\");"
   ]
  },
  {
   "cell_type": "code",
   "execution_count": 44,
   "id": "c3f38ddb",
   "metadata": {},
   "outputs": [
    {
     "data": {
      "image/png": "[encoded data removed]",
      "text/plain": [
       "<Figure size 720x360 with 1 Axes>"
      ]
     },
     "metadata": {
      "needs_background": "light"
     },
     "output_type": "display_data"
    }
   ],
   "source": [
    "for i in range (100):\n",
    "    ran.append(random.choice(Rv_range))\n",
    "fig, axis = plt.subplots(figsize =(10, 5))\n",
    "axis.hist(ran);\n",
    "plt.xlabel(\"Random Variable\")\n",
    "plt.ylabel(\"Frequency\");"
   ]
  },
  {
   "cell_type": "code",
   "execution_count": 45,
   "id": "160648a9",
   "metadata": {},
   "outputs": [
    {
     "data": {
      "image/png": "[encoded data removed]",
      "text/plain": [
       "<Figure size 720x360 with 1 Axes>"
      ]
     },
     "metadata": {
      "needs_background": "light"
     },
     "output_type": "display_data"
    }
   ],
   "source": [
    "for i in range (100000):\n",
    "    ran.append(random.choice(Rv_range))\n",
    "fig, axis = plt.subplots(figsize =(10, 5))\n",
    "axis.hist(ran);\n",
    "plt.xlabel(\"Random Variable\")\n",
    "plt.ylabel(\"Frequency\");"
   ]
  },
  {
   "cell_type": "code",
   "execution_count": 46,
   "id": "2eaf7199",
   "metadata": {},
   "outputs": [
    {
     "data": {
      "image/png": "[encoded data removed]",
      "text/plain": [
       "<Figure size 720x360 with 1 Axes>"
      ]
     },
     "metadata": {
      "needs_background": "light"
     },
     "output_type": "display_data"
    }
   ],
   "source": [
    "for i in range (200000):\n",
    "    ran.append(random.choice(Rv_range))\n",
    "fig, axis = plt.subplots(figsize =(10, 5))\n",
    "axis.hist(ran);\n",
    "plt.xlabel(\"Random Variable\")\n",
    "plt.ylabel(\"Frequency\");"
   ]
  },
  {
   "cell_type": "code",
   "execution_count": 48,
   "id": "455da0d5",
   "metadata": {},
   "outputs": [
    {
     "data": {
      "image/png": "[encoded data removed]",
      "text/plain": [
       "<Figure size 720x360 with 1 Axes>"
      ]
     },
     "metadata": {
      "needs_background": "light"
     },
     "output_type": "display_data"
    }
   ],
   "source": [
    "for i in range (500000):\n",
    "    ran.append(random.choice(Rv_range))\n",
    "fig, axis = plt.subplots(figsize =(10, 5))\n",
    "axis.hist(ran);\n",
    "plt.xlabel(\"Random Variable\")\n",
    "plt.ylabel(\"Frequency\");"
   ]
  },
  {
   "cell_type": "markdown",
   "id": "9693273e",
   "metadata": {},
   "source": [
    "as the sample size increase the probability of choosing any number is almost the same."
   ]
  },
  {
   "cell_type": "markdown",
   "id": "d6bd8d79",
   "metadata": {},
   "source": [
    "\n",
    "# Question 4\n"
   ]
  },
  {
   "cell_type": "code",
   "execution_count": 52,
   "id": "85782c4e",
   "metadata": {},
   "outputs": [
    {
     "name": "stdout",
     "output_type": "stream",
     "text": [
      "probability that 𝑥 lies between (2,8) is  0.8663855974622838\n",
      "probability that 𝑥 lies between (15,10) is  0.006209378674204236\n"
     ]
    }
   ],
   "source": [
    "mean = 5\n",
    "std = 2\n",
    "z = lambda x: (x - mean) / std\n",
    "part_a = stats.norm.cdf(z(8)) - stats.norm.cdf(z(2))\n",
    "part_b = stats.norm.cdf(z(15)) - stats.norm.cdf(z(10))\n",
    "print(\"probability that 𝑥 lies between (2,8) is \",part_a)\n",
    "print(\"probability that 𝑥 lies between (10,15) is \",part_b)\n"
   ]
  },
  {
   "cell_type": "code",
   "execution_count": 56,
   "id": "7bd5e27c",
   "metadata": {},
   "outputs": [
    {
     "data": {
      "image/png": "[encoded data removed]",
      "text/plain": [
       "<Figure size 432x288 with 1 Axes>"
      ]
     },
     "metadata": {
      "needs_background": "light"
     },
     "output_type": "display_data"
    }
   ],
   "source": [
    "x = np.linspace(mean - 2*std, mean + 2*std, 100)\n",
    "plt.plot(x, stats.norm.pdf(x, mean, std))\n",
    "plt.axvspan(2, 8, color='y', alpha=0.5, lw=0)\n",
    "plt.axvspan(10, 15, color='y', alpha=0.5, lw=0)\n",
    "plt.title(\"PDF\")\n",
    "plt.show()"
   ]
  },
  {
   "cell_type": "markdown",
   "id": "a1df3689",
   "metadata": {},
   "source": [
    "# Question 5"
   ]
  },
  {
   "cell_type": "code",
   "execution_count": 58,
   "id": "151e32a3",
   "metadata": {},
   "outputs": [
    {
     "name": "stdout",
     "output_type": "stream",
     "text": [
      "The mean equals :  14.358947368421052\n",
      "The median equals :  6.5\n",
      "The range equals :  72.7\n",
      "The standard deviation equals :  18.880454883508158\n"
     ]
    }
   ],
   "source": [
    "list5=[0.19, 0.78, 0.96, 1.31, 2.78, 3.16, 4.15, 4.67, 4.85, 6.50, 7.35, 8.01, 8.27, 12.06, 31.75, 32.52, 33.91, 36.71, 72.89]\n",
    "print (\"The mean equals : \", statistics.mean(list5) )\n",
    "list5.sort()\n",
    "print (\"The median equals : \", statistics.median(list5) )\n",
    "print (\"The range equals : \", list5[-1]-list5[0] )\n",
    "print (\"The standard deviation equals : \", statistics.stdev(list5) )"
   ]
  },
  {
   "cell_type": "markdown",
   "id": "d75d1e89",
   "metadata": {},
   "source": [
    "# Question 6"
   ]
  },
  {
   "cell_type": "code",
   "execution_count": 65,
   "id": "6ac8af42",
   "metadata": {},
   "outputs": [],
   "source": [
    "CAT=[2.31, 2.09, 2.36, 1.95, 1.98, 2.25, 2.16, 2.07, 1.88, 1.94, 1.97, 2.02]\n",
    "dof = len(CAT)-1 \n",
    "confidence = 0.95\n",
    "m = statistics.mean(CAT) \n",
    "s = statistics.stdev(CAT)"
   ]
  },
  {
   "cell_type": "code",
   "execution_count": 78,
   "id": "f148c454",
   "metadata": {},
   "outputs": [
    {
     "name": "stdout",
     "output_type": "stream",
     "text": [
      "(2.0472499051755015, 2.1160834281578316)\n"
     ]
    }
   ],
   "source": [
    "t_crit = np.abs(t.ppf((1-confidence)/2,dof))\n",
    "print((m-s*t_crit/np.sqrt(len(x)), m+s*t_crit/np.sqrt(len(x))) )"
   ]
  },
  {
   "cell_type": "code",
   "execution_count": 75,
   "id": "b1a87261",
   "metadata": {},
   "outputs": [
    {
     "data": {
      "text/plain": [
       "(1.9823140341088703, 2.181019299224463)"
      ]
     },
     "execution_count": 75,
     "metadata": {},
     "output_type": "execute_result"
    }
   ],
   "source": [
    "st.t.interval(alpha=0.95, df=len(CAT)-1, loc=np.mean(CAT), scale=st.sem(CAT)) "
   ]
  },
  {
   "cell_type": "code",
   "execution_count": 77,
   "id": "19d96a87",
   "metadata": {},
   "outputs": [
    {
     "data": {
      "text/plain": [
       "(1.993193747760124, 2.1701395855732093)"
      ]
     },
     "execution_count": 77,
     "metadata": {},
     "output_type": "execute_result"
    }
   ],
   "source": [
    "st.norm.interval(alpha=0.95, loc=np.mean(CAT), scale=st.sem(CAT)) "
   ]
  }
 ],
 "metadata": {
  "kernelspec": {
   "display_name": "Python 3",
   "language": "python",
   "name": "python3"
  },
  "language_info": {
   "codemirror_mode": {
    "name": "ipython",
    "version": 3
   },
   "file_extension": ".py",
   "mimetype": "text/x-python",
   "name": "python",
   "nbconvert_exporter": "python",
   "pygments_lexer": "ipython3",
   "version": "3.8.8"
  }
 },
 "nbformat": 4,
 "nbformat_minor": 5
}
